{
 "cells": [
  {
   "cell_type": "markdown",
   "id": "c3a98866",
   "metadata": {},
   "source": [
    "# Project On Automobile Price"
   ]
  },
  {
   "cell_type": "code",
   "execution_count": 1,
   "id": "332ebd64",
   "metadata": {},
   "outputs": [],
   "source": [
    "import numpy as np\n",
    "import pandas as pd\n",
    "import matplotlib.pyplot as plt \n",
    "import seaborn as sb\n",
    "import warnings\n",
    "warnings.filterwarnings('ignore')"
   ]
  },
  {
   "cell_type": "code",
   "execution_count": 66,
   "id": "a267e065",
   "metadata": {},
   "outputs": [
    {
     "data": {
      "text/html": [
       "<div>\n",
       "<style scoped>\n",
       "    .dataframe tbody tr th:only-of-type {\n",
       "        vertical-align: middle;\n",
       "    }\n",
       "\n",
       "    .dataframe tbody tr th {\n",
       "        vertical-align: top;\n",
       "    }\n",
       "\n",
       "    .dataframe thead th {\n",
       "        text-align: right;\n",
       "    }\n",
       "</style>\n",
       "<table border=\"1\" class=\"dataframe\">\n",
       "  <thead>\n",
       "    <tr style=\"text-align: right;\">\n",
       "      <th></th>\n",
       "      <th>symboling</th>\n",
       "      <th>make</th>\n",
       "      <th>fueltype</th>\n",
       "      <th>aspiration</th>\n",
       "      <th>doornumber</th>\n",
       "      <th>carbody</th>\n",
       "      <th>drivewheel</th>\n",
       "      <th>enginelocation</th>\n",
       "      <th>wheelbase</th>\n",
       "      <th>carlength</th>\n",
       "      <th>...</th>\n",
       "      <th>enginesize</th>\n",
       "      <th>fuelsystem</th>\n",
       "      <th>boreratio</th>\n",
       "      <th>stroke</th>\n",
       "      <th>compressionratio</th>\n",
       "      <th>horsepower</th>\n",
       "      <th>peakrpm</th>\n",
       "      <th>citympg</th>\n",
       "      <th>highwaympg</th>\n",
       "      <th>price</th>\n",
       "    </tr>\n",
       "  </thead>\n",
       "  <tbody>\n",
       "    <tr>\n",
       "      <th>0</th>\n",
       "      <td>3</td>\n",
       "      <td>alfa-romero giulia</td>\n",
       "      <td>gas</td>\n",
       "      <td>std</td>\n",
       "      <td>two</td>\n",
       "      <td>convertible</td>\n",
       "      <td>rwd</td>\n",
       "      <td>front</td>\n",
       "      <td>88.6</td>\n",
       "      <td>168.8</td>\n",
       "      <td>...</td>\n",
       "      <td>130</td>\n",
       "      <td>mpfi</td>\n",
       "      <td>3.47</td>\n",
       "      <td>2.68</td>\n",
       "      <td>9.0</td>\n",
       "      <td>111</td>\n",
       "      <td>5000</td>\n",
       "      <td>21</td>\n",
       "      <td>27</td>\n",
       "      <td>13495.0</td>\n",
       "    </tr>\n",
       "    <tr>\n",
       "      <th>1</th>\n",
       "      <td>3</td>\n",
       "      <td>alfa-romero stelvio</td>\n",
       "      <td>gas</td>\n",
       "      <td>std</td>\n",
       "      <td>two</td>\n",
       "      <td>convertible</td>\n",
       "      <td>rwd</td>\n",
       "      <td>front</td>\n",
       "      <td>88.6</td>\n",
       "      <td>168.8</td>\n",
       "      <td>...</td>\n",
       "      <td>130</td>\n",
       "      <td>mpfi</td>\n",
       "      <td>3.47</td>\n",
       "      <td>2.68</td>\n",
       "      <td>9.0</td>\n",
       "      <td>111</td>\n",
       "      <td>5000</td>\n",
       "      <td>21</td>\n",
       "      <td>27</td>\n",
       "      <td>16500.0</td>\n",
       "    </tr>\n",
       "    <tr>\n",
       "      <th>2</th>\n",
       "      <td>1</td>\n",
       "      <td>alfa-romero Quadrifoglio</td>\n",
       "      <td>gas</td>\n",
       "      <td>std</td>\n",
       "      <td>two</td>\n",
       "      <td>hatchback</td>\n",
       "      <td>rwd</td>\n",
       "      <td>front</td>\n",
       "      <td>94.5</td>\n",
       "      <td>171.2</td>\n",
       "      <td>...</td>\n",
       "      <td>152</td>\n",
       "      <td>mpfi</td>\n",
       "      <td>2.68</td>\n",
       "      <td>3.47</td>\n",
       "      <td>9.0</td>\n",
       "      <td>154</td>\n",
       "      <td>5000</td>\n",
       "      <td>19</td>\n",
       "      <td>26</td>\n",
       "      <td>16500.0</td>\n",
       "    </tr>\n",
       "  </tbody>\n",
       "</table>\n",
       "<p>3 rows × 25 columns</p>\n",
       "</div>"
      ],
      "text/plain": [
       "   symboling                      make fueltype aspiration doornumber  \\\n",
       "0          3        alfa-romero giulia      gas        std        two   \n",
       "1          3       alfa-romero stelvio      gas        std        two   \n",
       "2          1  alfa-romero Quadrifoglio      gas        std        two   \n",
       "\n",
       "       carbody drivewheel enginelocation  wheelbase  carlength  ...  \\\n",
       "0  convertible        rwd          front       88.6      168.8  ...   \n",
       "1  convertible        rwd          front       88.6      168.8  ...   \n",
       "2    hatchback        rwd          front       94.5      171.2  ...   \n",
       "\n",
       "   enginesize  fuelsystem  boreratio stroke compressionratio  horsepower  \\\n",
       "0         130        mpfi       3.47   2.68              9.0         111   \n",
       "1         130        mpfi       3.47   2.68              9.0         111   \n",
       "2         152        mpfi       2.68   3.47              9.0         154   \n",
       "\n",
       "  peakrpm  citympg  highwaympg    price  \n",
       "0    5000       21          27  13495.0  \n",
       "1    5000       21          27  16500.0  \n",
       "2    5000       19          26  16500.0  \n",
       "\n",
       "[3 rows x 25 columns]"
      ]
     },
     "execution_count": 66,
     "metadata": {},
     "output_type": "execute_result"
    }
   ],
   "source": [
    "am_data=pd.read_csv(\"C:\\\\Users\\\\Laptop-PC\\\\Documents\\\\machine learning module\\\\AutoData.csv\")\n",
    "am_data.head(3)"
   ]
  },
  {
   "cell_type": "markdown",
   "id": "33e27831",
   "metadata": {},
   "source": [
    "“Price” column is the target variable and rest of the columns are independent variables."
   ]
  },
  {
   "cell_type": "code",
   "execution_count": 3,
   "id": "3f6c7806",
   "metadata": {},
   "outputs": [
    {
     "data": {
      "text/plain": [
       "(205, 25)"
      ]
     },
     "execution_count": 3,
     "metadata": {},
     "output_type": "execute_result"
    }
   ],
   "source": [
    "am_data.shape"
   ]
  },
  {
   "cell_type": "markdown",
   "id": "79e5705e",
   "metadata": {},
   "source": [
    "it contains 205 records with 25 columns"
   ]
  },
  {
   "cell_type": "code",
   "execution_count": 4,
   "id": "e4956b52",
   "metadata": {},
   "outputs": [
    {
     "name": "stdout",
     "output_type": "stream",
     "text": [
      "<class 'pandas.core.frame.DataFrame'>\n",
      "RangeIndex: 205 entries, 0 to 204\n",
      "Data columns (total 25 columns):\n",
      " #   Column            Non-Null Count  Dtype  \n",
      "---  ------            --------------  -----  \n",
      " 0   symboling         205 non-null    int64  \n",
      " 1   make              205 non-null    object \n",
      " 2   fueltype          205 non-null    object \n",
      " 3   aspiration        205 non-null    object \n",
      " 4   doornumber        205 non-null    object \n",
      " 5   carbody           205 non-null    object \n",
      " 6   drivewheel        205 non-null    object \n",
      " 7   enginelocation    205 non-null    object \n",
      " 8   wheelbase         205 non-null    float64\n",
      " 9   carlength         205 non-null    float64\n",
      " 10  carwidth          205 non-null    float64\n",
      " 11  carheight         205 non-null    float64\n",
      " 12  curbweight        205 non-null    int64  \n",
      " 13  enginetype        205 non-null    object \n",
      " 14  cylindernumber    205 non-null    object \n",
      " 15  enginesize        205 non-null    int64  \n",
      " 16  fuelsystem        205 non-null    object \n",
      " 17  boreratio         205 non-null    float64\n",
      " 18  stroke            205 non-null    float64\n",
      " 19  compressionratio  205 non-null    float64\n",
      " 20  horsepower        205 non-null    int64  \n",
      " 21  peakrpm           205 non-null    int64  \n",
      " 22  citympg           205 non-null    int64  \n",
      " 23  highwaympg        205 non-null    int64  \n",
      " 24  price             205 non-null    float64\n",
      "dtypes: float64(8), int64(7), object(10)\n",
      "memory usage: 40.2+ KB\n"
     ]
    }
   ],
   "source": [
    "am_data.info()\n"
   ]
  },
  {
   "cell_type": "markdown",
   "id": "aa3d696a",
   "metadata": {},
   "source": [
    " it has no null values"
   ]
  },
  {
   "cell_type": "code",
   "execution_count": 5,
   "id": "04fd05bd",
   "metadata": {},
   "outputs": [
    {
     "data": {
      "text/html": [
       "<div>\n",
       "<style scoped>\n",
       "    .dataframe tbody tr th:only-of-type {\n",
       "        vertical-align: middle;\n",
       "    }\n",
       "\n",
       "    .dataframe tbody tr th {\n",
       "        vertical-align: top;\n",
       "    }\n",
       "\n",
       "    .dataframe thead th {\n",
       "        text-align: right;\n",
       "    }\n",
       "</style>\n",
       "<table border=\"1\" class=\"dataframe\">\n",
       "  <thead>\n",
       "    <tr style=\"text-align: right;\">\n",
       "      <th></th>\n",
       "      <th>symboling</th>\n",
       "      <th>wheelbase</th>\n",
       "      <th>carlength</th>\n",
       "      <th>carwidth</th>\n",
       "      <th>carheight</th>\n",
       "      <th>curbweight</th>\n",
       "      <th>enginesize</th>\n",
       "      <th>boreratio</th>\n",
       "      <th>stroke</th>\n",
       "      <th>compressionratio</th>\n",
       "      <th>horsepower</th>\n",
       "      <th>peakrpm</th>\n",
       "      <th>citympg</th>\n",
       "      <th>highwaympg</th>\n",
       "      <th>price</th>\n",
       "    </tr>\n",
       "  </thead>\n",
       "  <tbody>\n",
       "    <tr>\n",
       "      <th>count</th>\n",
       "      <td>205.000000</td>\n",
       "      <td>205.000000</td>\n",
       "      <td>205.000000</td>\n",
       "      <td>205.000000</td>\n",
       "      <td>205.000000</td>\n",
       "      <td>205.000000</td>\n",
       "      <td>205.000000</td>\n",
       "      <td>205.000000</td>\n",
       "      <td>205.000000</td>\n",
       "      <td>205.000000</td>\n",
       "      <td>205.000000</td>\n",
       "      <td>205.000000</td>\n",
       "      <td>205.000000</td>\n",
       "      <td>205.000000</td>\n",
       "      <td>205.000000</td>\n",
       "    </tr>\n",
       "    <tr>\n",
       "      <th>mean</th>\n",
       "      <td>0.834146</td>\n",
       "      <td>98.756585</td>\n",
       "      <td>174.049268</td>\n",
       "      <td>65.907805</td>\n",
       "      <td>53.724878</td>\n",
       "      <td>2555.565854</td>\n",
       "      <td>126.907317</td>\n",
       "      <td>3.329756</td>\n",
       "      <td>3.255415</td>\n",
       "      <td>10.142537</td>\n",
       "      <td>104.117073</td>\n",
       "      <td>5125.121951</td>\n",
       "      <td>25.219512</td>\n",
       "      <td>30.751220</td>\n",
       "      <td>13276.710571</td>\n",
       "    </tr>\n",
       "    <tr>\n",
       "      <th>std</th>\n",
       "      <td>1.245307</td>\n",
       "      <td>6.021776</td>\n",
       "      <td>12.337289</td>\n",
       "      <td>2.145204</td>\n",
       "      <td>2.443522</td>\n",
       "      <td>520.680204</td>\n",
       "      <td>41.642693</td>\n",
       "      <td>0.270844</td>\n",
       "      <td>0.313597</td>\n",
       "      <td>3.972040</td>\n",
       "      <td>39.544167</td>\n",
       "      <td>476.985643</td>\n",
       "      <td>6.542142</td>\n",
       "      <td>6.886443</td>\n",
       "      <td>7988.852332</td>\n",
       "    </tr>\n",
       "    <tr>\n",
       "      <th>min</th>\n",
       "      <td>-2.000000</td>\n",
       "      <td>86.600000</td>\n",
       "      <td>141.100000</td>\n",
       "      <td>60.300000</td>\n",
       "      <td>47.800000</td>\n",
       "      <td>1488.000000</td>\n",
       "      <td>61.000000</td>\n",
       "      <td>2.540000</td>\n",
       "      <td>2.070000</td>\n",
       "      <td>7.000000</td>\n",
       "      <td>48.000000</td>\n",
       "      <td>4150.000000</td>\n",
       "      <td>13.000000</td>\n",
       "      <td>16.000000</td>\n",
       "      <td>5118.000000</td>\n",
       "    </tr>\n",
       "    <tr>\n",
       "      <th>25%</th>\n",
       "      <td>0.000000</td>\n",
       "      <td>94.500000</td>\n",
       "      <td>166.300000</td>\n",
       "      <td>64.100000</td>\n",
       "      <td>52.000000</td>\n",
       "      <td>2145.000000</td>\n",
       "      <td>97.000000</td>\n",
       "      <td>3.150000</td>\n",
       "      <td>3.110000</td>\n",
       "      <td>8.600000</td>\n",
       "      <td>70.000000</td>\n",
       "      <td>4800.000000</td>\n",
       "      <td>19.000000</td>\n",
       "      <td>25.000000</td>\n",
       "      <td>7788.000000</td>\n",
       "    </tr>\n",
       "    <tr>\n",
       "      <th>50%</th>\n",
       "      <td>1.000000</td>\n",
       "      <td>97.000000</td>\n",
       "      <td>173.200000</td>\n",
       "      <td>65.500000</td>\n",
       "      <td>54.100000</td>\n",
       "      <td>2414.000000</td>\n",
       "      <td>120.000000</td>\n",
       "      <td>3.310000</td>\n",
       "      <td>3.290000</td>\n",
       "      <td>9.000000</td>\n",
       "      <td>95.000000</td>\n",
       "      <td>5200.000000</td>\n",
       "      <td>24.000000</td>\n",
       "      <td>30.000000</td>\n",
       "      <td>10295.000000</td>\n",
       "    </tr>\n",
       "    <tr>\n",
       "      <th>75%</th>\n",
       "      <td>2.000000</td>\n",
       "      <td>102.400000</td>\n",
       "      <td>183.100000</td>\n",
       "      <td>66.900000</td>\n",
       "      <td>55.500000</td>\n",
       "      <td>2935.000000</td>\n",
       "      <td>141.000000</td>\n",
       "      <td>3.580000</td>\n",
       "      <td>3.410000</td>\n",
       "      <td>9.400000</td>\n",
       "      <td>116.000000</td>\n",
       "      <td>5500.000000</td>\n",
       "      <td>30.000000</td>\n",
       "      <td>34.000000</td>\n",
       "      <td>16503.000000</td>\n",
       "    </tr>\n",
       "    <tr>\n",
       "      <th>max</th>\n",
       "      <td>3.000000</td>\n",
       "      <td>120.900000</td>\n",
       "      <td>208.100000</td>\n",
       "      <td>72.300000</td>\n",
       "      <td>59.800000</td>\n",
       "      <td>4066.000000</td>\n",
       "      <td>326.000000</td>\n",
       "      <td>3.940000</td>\n",
       "      <td>4.170000</td>\n",
       "      <td>23.000000</td>\n",
       "      <td>288.000000</td>\n",
       "      <td>6600.000000</td>\n",
       "      <td>49.000000</td>\n",
       "      <td>54.000000</td>\n",
       "      <td>45400.000000</td>\n",
       "    </tr>\n",
       "  </tbody>\n",
       "</table>\n",
       "</div>"
      ],
      "text/plain": [
       "        symboling   wheelbase   carlength    carwidth   carheight  \\\n",
       "count  205.000000  205.000000  205.000000  205.000000  205.000000   \n",
       "mean     0.834146   98.756585  174.049268   65.907805   53.724878   \n",
       "std      1.245307    6.021776   12.337289    2.145204    2.443522   \n",
       "min     -2.000000   86.600000  141.100000   60.300000   47.800000   \n",
       "25%      0.000000   94.500000  166.300000   64.100000   52.000000   \n",
       "50%      1.000000   97.000000  173.200000   65.500000   54.100000   \n",
       "75%      2.000000  102.400000  183.100000   66.900000   55.500000   \n",
       "max      3.000000  120.900000  208.100000   72.300000   59.800000   \n",
       "\n",
       "        curbweight  enginesize   boreratio      stroke  compressionratio  \\\n",
       "count   205.000000  205.000000  205.000000  205.000000        205.000000   \n",
       "mean   2555.565854  126.907317    3.329756    3.255415         10.142537   \n",
       "std     520.680204   41.642693    0.270844    0.313597          3.972040   \n",
       "min    1488.000000   61.000000    2.540000    2.070000          7.000000   \n",
       "25%    2145.000000   97.000000    3.150000    3.110000          8.600000   \n",
       "50%    2414.000000  120.000000    3.310000    3.290000          9.000000   \n",
       "75%    2935.000000  141.000000    3.580000    3.410000          9.400000   \n",
       "max    4066.000000  326.000000    3.940000    4.170000         23.000000   \n",
       "\n",
       "       horsepower      peakrpm     citympg  highwaympg         price  \n",
       "count  205.000000   205.000000  205.000000  205.000000    205.000000  \n",
       "mean   104.117073  5125.121951   25.219512   30.751220  13276.710571  \n",
       "std     39.544167   476.985643    6.542142    6.886443   7988.852332  \n",
       "min     48.000000  4150.000000   13.000000   16.000000   5118.000000  \n",
       "25%     70.000000  4800.000000   19.000000   25.000000   7788.000000  \n",
       "50%     95.000000  5200.000000   24.000000   30.000000  10295.000000  \n",
       "75%    116.000000  5500.000000   30.000000   34.000000  16503.000000  \n",
       "max    288.000000  6600.000000   49.000000   54.000000  45400.000000  "
      ]
     },
     "execution_count": 5,
     "metadata": {},
     "output_type": "execute_result"
    }
   ],
   "source": [
    "# numerical summary of data\n",
    "\n",
    "am_data.describe()"
   ]
  },
  {
   "cell_type": "markdown",
   "id": "f4befff7",
   "metadata": {},
   "source": [
    "### Data Cleaning"
   ]
  },
  {
   "cell_type": "code",
   "execution_count": 6,
   "id": "f293201b",
   "metadata": {},
   "outputs": [
    {
     "data": {
      "text/plain": [
       "0"
      ]
     },
     "execution_count": 6,
     "metadata": {},
     "output_type": "execute_result"
    }
   ],
   "source": [
    "am_data.duplicated().sum()"
   ]
  },
  {
   "cell_type": "markdown",
   "id": "dfad217a",
   "metadata": {},
   "source": [
    "there is no duplicate values"
   ]
  },
  {
   "cell_type": "code",
   "execution_count": 7,
   "id": "cea0b5db",
   "metadata": {},
   "outputs": [
    {
     "data": {
      "text/plain": [
       " 0    67\n",
       " 1    54\n",
       " 2    32\n",
       " 3    27\n",
       "-1    22\n",
       "-2     3\n",
       "Name: symboling, dtype: int64"
      ]
     },
     "execution_count": 7,
     "metadata": {},
     "output_type": "execute_result"
    }
   ],
   "source": [
    "#  1st column of the dataset\n",
    "#symboling:it assigned a risk factor,+3 indicates that the auto is risky, -3 indicates that it is probably pretty safe\n",
    "\n",
    "am_data['symboling'].value_counts()"
   ]
  },
  {
   "cell_type": "code",
   "execution_count": 13,
   "id": "31149894",
   "metadata": {},
   "outputs": [
    {
     "data": {
      "text/plain": [
       "toyota corona           6\n",
       "toyota corolla          6\n",
       "peugeot 504             6\n",
       "subaru dl               4\n",
       "mitsubishi mirage g4    3\n",
       "                       ..\n",
       "mazda glc 4             1\n",
       "mazda rx2 coupe         1\n",
       "maxda glc deluxe        1\n",
       "maxda rx3               1\n",
       "volvo 246               1\n",
       "Name: make, Length: 147, dtype: int64"
      ]
     },
     "execution_count": 13,
     "metadata": {},
     "output_type": "execute_result"
    }
   ],
   "source": [
    "am_data['make'].value_counts()"
   ]
  },
  {
   "cell_type": "code",
   "execution_count": 67,
   "id": "f6d13432",
   "metadata": {},
   "outputs": [],
   "source": [
    "# make is not a suitable match for this column so we will change the column name\n",
    "\n",
    "car_company=am_data['make'].apply(lambda x : x.split(' ')[0])"
   ]
  },
  {
   "cell_type": "code",
   "execution_count": 68,
   "id": "ad6771c5",
   "metadata": {},
   "outputs": [],
   "source": [
    "#deleting original data\n",
    "\n",
    "am_data=am_data.drop(['make'],axis=1)"
   ]
  },
  {
   "cell_type": "code",
   "execution_count": 69,
   "id": "1c0da0e6",
   "metadata": {},
   "outputs": [
    {
     "data": {
      "text/html": [
       "<div>\n",
       "<style scoped>\n",
       "    .dataframe tbody tr th:only-of-type {\n",
       "        vertical-align: middle;\n",
       "    }\n",
       "\n",
       "    .dataframe tbody tr th {\n",
       "        vertical-align: top;\n",
       "    }\n",
       "\n",
       "    .dataframe thead th {\n",
       "        text-align: right;\n",
       "    }\n",
       "</style>\n",
       "<table border=\"1\" class=\"dataframe\">\n",
       "  <thead>\n",
       "    <tr style=\"text-align: right;\">\n",
       "      <th></th>\n",
       "      <th>symboling</th>\n",
       "      <th>car_company</th>\n",
       "      <th>fueltype</th>\n",
       "      <th>aspiration</th>\n",
       "      <th>doornumber</th>\n",
       "      <th>carbody</th>\n",
       "      <th>drivewheel</th>\n",
       "      <th>enginelocation</th>\n",
       "      <th>wheelbase</th>\n",
       "      <th>carlength</th>\n",
       "      <th>...</th>\n",
       "      <th>enginesize</th>\n",
       "      <th>fuelsystem</th>\n",
       "      <th>boreratio</th>\n",
       "      <th>stroke</th>\n",
       "      <th>compressionratio</th>\n",
       "      <th>horsepower</th>\n",
       "      <th>peakrpm</th>\n",
       "      <th>citympg</th>\n",
       "      <th>highwaympg</th>\n",
       "      <th>price</th>\n",
       "    </tr>\n",
       "  </thead>\n",
       "  <tbody>\n",
       "    <tr>\n",
       "      <th>0</th>\n",
       "      <td>3</td>\n",
       "      <td>alfa-romero</td>\n",
       "      <td>gas</td>\n",
       "      <td>std</td>\n",
       "      <td>two</td>\n",
       "      <td>convertible</td>\n",
       "      <td>rwd</td>\n",
       "      <td>front</td>\n",
       "      <td>88.6</td>\n",
       "      <td>168.8</td>\n",
       "      <td>...</td>\n",
       "      <td>130</td>\n",
       "      <td>mpfi</td>\n",
       "      <td>3.47</td>\n",
       "      <td>2.68</td>\n",
       "      <td>9.0</td>\n",
       "      <td>111</td>\n",
       "      <td>5000</td>\n",
       "      <td>21</td>\n",
       "      <td>27</td>\n",
       "      <td>13495.0</td>\n",
       "    </tr>\n",
       "    <tr>\n",
       "      <th>1</th>\n",
       "      <td>3</td>\n",
       "      <td>alfa-romero</td>\n",
       "      <td>gas</td>\n",
       "      <td>std</td>\n",
       "      <td>two</td>\n",
       "      <td>convertible</td>\n",
       "      <td>rwd</td>\n",
       "      <td>front</td>\n",
       "      <td>88.6</td>\n",
       "      <td>168.8</td>\n",
       "      <td>...</td>\n",
       "      <td>130</td>\n",
       "      <td>mpfi</td>\n",
       "      <td>3.47</td>\n",
       "      <td>2.68</td>\n",
       "      <td>9.0</td>\n",
       "      <td>111</td>\n",
       "      <td>5000</td>\n",
       "      <td>21</td>\n",
       "      <td>27</td>\n",
       "      <td>16500.0</td>\n",
       "    </tr>\n",
       "  </tbody>\n",
       "</table>\n",
       "<p>2 rows × 25 columns</p>\n",
       "</div>"
      ],
      "text/plain": [
       "   symboling  car_company fueltype aspiration doornumber      carbody  \\\n",
       "0          3  alfa-romero      gas        std        two  convertible   \n",
       "1          3  alfa-romero      gas        std        two  convertible   \n",
       "\n",
       "  drivewheel enginelocation  wheelbase  carlength  ...  enginesize  \\\n",
       "0        rwd          front       88.6      168.8  ...         130   \n",
       "1        rwd          front       88.6      168.8  ...         130   \n",
       "\n",
       "   fuelsystem  boreratio stroke compressionratio  horsepower peakrpm  citympg  \\\n",
       "0        mpfi       3.47   2.68              9.0         111    5000       21   \n",
       "1        mpfi       3.47   2.68              9.0         111    5000       21   \n",
       "\n",
       "   highwaympg    price  \n",
       "0          27  13495.0  \n",
       "1          27  16500.0  \n",
       "\n",
       "[2 rows x 25 columns]"
      ]
     },
     "execution_count": 69,
     "metadata": {},
     "output_type": "execute_result"
    }
   ],
   "source": [
    "# inserting new column name in place of 'make' so that its relatable\n",
    "\n",
    "am_data.insert(1,\"car_company\",car_company)\n",
    "am_data.head(2)"
   ]
  },
  {
   "cell_type": "code",
   "execution_count": 70,
   "id": "925edabf",
   "metadata": {},
   "outputs": [
    {
     "data": {
      "text/plain": [
       "array(['alfa-romero', 'audi', 'bmw', 'chevrolet', 'dodge', 'honda',\n",
       "       'isuzu', 'jaguar', 'maxda', 'mazda', 'buick', 'mercury',\n",
       "       'mitsubishi', 'Nissan', 'nissan', 'peugeot', 'plymouth', 'porsche',\n",
       "       'porcshce', 'renault', 'saab', 'subaru', 'toyota', 'toyouta',\n",
       "       'vokswagen', 'volkswagen', 'vw', 'volvo'], dtype=object)"
      ]
     },
     "execution_count": 70,
     "metadata": {},
     "output_type": "execute_result"
    }
   ],
   "source": [
    "am_data.car_company.unique()"
   ]
  },
  {
   "cell_type": "markdown",
   "id": "7f65302d",
   "metadata": {},
   "source": [
    "we can see that there are some spelling error (maxda = mazda, Nissan = nissan, porsche = porcshce, toyota = toyouta, vokswagen = volkswagen = vw ) so we have to fix this all "
   ]
  },
  {
   "cell_type": "code",
   "execution_count": 71,
   "id": "8cae8538",
   "metadata": {},
   "outputs": [],
   "source": [
    "# correcting the spelling error\n",
    "\n",
    "am_data['car_company']=am_data['car_company'].replace({'maxda': 'mazda', 'nissan': 'Nissan', 'porcshce': 'porsche', 'toyouta': 'toyota', \n",
    "                            'vokswagen': 'volkswagen', 'vw': 'volkswagen'})"
   ]
  },
  {
   "cell_type": "code",
   "execution_count": 72,
   "id": "3c39882c",
   "metadata": {},
   "outputs": [
    {
     "data": {
      "text/plain": [
       "toyota         32\n",
       "Nissan         18\n",
       "mazda          17\n",
       "mitsubishi     13\n",
       "honda          13\n",
       "volkswagen     12\n",
       "subaru         12\n",
       "peugeot        11\n",
       "volvo          11\n",
       "dodge           9\n",
       "buick           8\n",
       "bmw             8\n",
       "audi            7\n",
       "plymouth        7\n",
       "saab            6\n",
       "porsche         5\n",
       "isuzu           4\n",
       "jaguar          3\n",
       "chevrolet       3\n",
       "alfa-romero     3\n",
       "renault         2\n",
       "mercury         1\n",
       "Name: car_company, dtype: int64"
      ]
     },
     "execution_count": 72,
     "metadata": {},
     "output_type": "execute_result"
    }
   ],
   "source": [
    "am_data['car_company'].value_counts()"
   ]
  },
  {
   "cell_type": "code",
   "execution_count": 20,
   "id": "28e5cf80",
   "metadata": {},
   "outputs": [
    {
     "data": {
      "text/plain": [
       "gas       185\n",
       "diesel     20\n",
       "Name: fueltype, dtype: int64"
      ]
     },
     "execution_count": 20,
     "metadata": {},
     "output_type": "execute_result"
    }
   ],
   "source": [
    "am_data['fueltype'].value_counts()"
   ]
  },
  {
   "cell_type": "code",
   "execution_count": 21,
   "id": "f35ffe9c",
   "metadata": {},
   "outputs": [
    {
     "data": {
      "text/plain": [
       "std      168\n",
       "turbo     37\n",
       "Name: aspiration, dtype: int64"
      ]
     },
     "execution_count": 21,
     "metadata": {},
     "output_type": "execute_result"
    }
   ],
   "source": [
    "am_data['aspiration'].value_counts()"
   ]
  },
  {
   "cell_type": "code",
   "execution_count": 22,
   "id": "61269628",
   "metadata": {},
   "outputs": [
    {
     "data": {
      "text/plain": [
       "four    115\n",
       "two      90\n",
       "Name: doornumber, dtype: int64"
      ]
     },
     "execution_count": 22,
     "metadata": {},
     "output_type": "execute_result"
    }
   ],
   "source": [
    "am_data['doornumber'].value_counts()"
   ]
  },
  {
   "cell_type": "code",
   "execution_count": 23,
   "id": "b884c03b",
   "metadata": {},
   "outputs": [
    {
     "data": {
      "text/plain": [
       "sedan          96\n",
       "hatchback      70\n",
       "wagon          25\n",
       "hardtop         8\n",
       "convertible     6\n",
       "Name: carbody, dtype: int64"
      ]
     },
     "execution_count": 23,
     "metadata": {},
     "output_type": "execute_result"
    }
   ],
   "source": [
    "am_data['carbody'].value_counts()"
   ]
  },
  {
   "cell_type": "code",
   "execution_count": 24,
   "id": "f956bc13",
   "metadata": {},
   "outputs": [
    {
     "data": {
      "text/plain": [
       "fwd    120\n",
       "rwd     76\n",
       "4wd      9\n",
       "Name: drivewheel, dtype: int64"
      ]
     },
     "execution_count": 24,
     "metadata": {},
     "output_type": "execute_result"
    }
   ],
   "source": [
    "am_data['drivewheel'].value_counts()"
   ]
  },
  {
   "cell_type": "code",
   "execution_count": 25,
   "id": "3425edb1",
   "metadata": {},
   "outputs": [
    {
     "data": {
      "text/plain": [
       "front    202\n",
       "rear       3\n",
       "Name: enginelocation, dtype: int64"
      ]
     },
     "execution_count": 25,
     "metadata": {},
     "output_type": "execute_result"
    }
   ],
   "source": [
    "am_data['enginelocation'].value_counts()"
   ]
  },
  {
   "cell_type": "code",
   "execution_count": 26,
   "id": "9bc2ed9e",
   "metadata": {},
   "outputs": [
    {
     "data": {
      "text/plain": [
       "94.5    21\n",
       "93.7    20\n",
       "95.7    13\n",
       "96.5     8\n",
       "97.3     7\n",
       "Name: wheelbase, dtype: int64"
      ]
     },
     "execution_count": 26,
     "metadata": {},
     "output_type": "execute_result"
    }
   ],
   "source": [
    "am_data['wheelbase'].value_counts().head()"
   ]
  },
  {
   "cell_type": "code",
   "execution_count": 27,
   "id": "b89beb8f",
   "metadata": {},
   "outputs": [
    {
     "data": {
      "text/plain": [
       "157.3    15\n",
       "188.8    11\n",
       "171.7     7\n",
       "186.7     7\n",
       "166.3     7\n",
       "Name: carlength, dtype: int64"
      ]
     },
     "execution_count": 27,
     "metadata": {},
     "output_type": "execute_result"
    }
   ],
   "source": [
    "am_data['carlength'].value_counts().head()"
   ]
  },
  {
   "cell_type": "code",
   "execution_count": 28,
   "id": "5f3f199b",
   "metadata": {},
   "outputs": [
    {
     "data": {
      "text/plain": [
       "ohc      148\n",
       "ohcf      15\n",
       "ohcv      13\n",
       "dohc      12\n",
       "l         12\n",
       "rotor      4\n",
       "dohcv      1\n",
       "Name: enginetype, dtype: int64"
      ]
     },
     "execution_count": 28,
     "metadata": {},
     "output_type": "execute_result"
    }
   ],
   "source": [
    "am_data['enginetype'].value_counts()"
   ]
  },
  {
   "cell_type": "code",
   "execution_count": 29,
   "id": "28f57623",
   "metadata": {},
   "outputs": [
    {
     "data": {
      "text/plain": [
       "four      159\n",
       "six        24\n",
       "five       11\n",
       "eight       5\n",
       "two         4\n",
       "three       1\n",
       "twelve      1\n",
       "Name: cylindernumber, dtype: int64"
      ]
     },
     "execution_count": 29,
     "metadata": {},
     "output_type": "execute_result"
    }
   ],
   "source": [
    "am_data['cylindernumber'].value_counts()"
   ]
  },
  {
   "cell_type": "code",
   "execution_count": 30,
   "id": "b0943e06",
   "metadata": {},
   "outputs": [
    {
     "data": {
      "text/plain": [
       "mpfi    94\n",
       "2bbl    66\n",
       "idi     20\n",
       "1bbl    11\n",
       "spdi     9\n",
       "4bbl     3\n",
       "mfi      1\n",
       "spfi     1\n",
       "Name: fuelsystem, dtype: int64"
      ]
     },
     "execution_count": 30,
     "metadata": {},
     "output_type": "execute_result"
    }
   ],
   "source": [
    "am_data['fuelsystem'].value_counts()"
   ]
  },
  {
   "cell_type": "markdown",
   "id": "ffd6143f",
   "metadata": {},
   "source": [
    "we have checked most of the columns and all are ready to use now we will check some relationships with target variable "
   ]
  },
  {
   "cell_type": "code",
   "execution_count": 73,
   "id": "46bed290",
   "metadata": {},
   "outputs": [],
   "source": [
    "# independent variables are again divided into Categorical and Numerical variables.\n",
    "\n",
    "var=am_data.columns\n",
    "numerical_var=am_data._get_numeric_data().columns\n",
    "categorical_var = list(set(var) - set(numerical_var))"
   ]
  },
  {
   "cell_type": "code",
   "execution_count": 74,
   "id": "2069948a",
   "metadata": {},
   "outputs": [
    {
     "data": {
      "text/plain": [
       "Index(['symboling', 'wheelbase', 'carlength', 'carwidth', 'carheight',\n",
       "       'curbweight', 'enginesize', 'boreratio', 'stroke', 'compressionratio',\n",
       "       'horsepower', 'peakrpm', 'citympg', 'highwaympg', 'price'],\n",
       "      dtype='object')"
      ]
     },
     "execution_count": 74,
     "metadata": {},
     "output_type": "execute_result"
    }
   ],
   "source": [
    "numerical_var"
   ]
  },
  {
   "cell_type": "code",
   "execution_count": 75,
   "id": "20d9eaa9",
   "metadata": {},
   "outputs": [
    {
     "name": "stdout",
     "output_type": "stream",
     "text": [
      "['enginetype', 'aspiration', 'doornumber', 'fueltype', 'carbody', 'enginelocation', 'fuelsystem', 'car_company', 'drivewheel', 'cylindernumber']\n"
     ]
    }
   ],
   "source": [
    "print(categorical_var)"
   ]
  },
  {
   "cell_type": "code",
   "execution_count": 76,
   "id": "60d3a394",
   "metadata": {},
   "outputs": [
    {
     "data": {
      "image/png": "[encoded data removed]",
      "text/plain": [
       "<Figure size 1440x288 with 5 Axes>"
      ]
     },
     "metadata": {
      "needs_background": "light"
     },
     "output_type": "display_data"
    },
    {
     "data": {
      "image/png": "[encoded data removed]",
      "text/plain": [
       "<Figure size 1440x288 with 5 Axes>"
      ]
     },
     "metadata": {
      "needs_background": "light"
     },
     "output_type": "display_data"
    },
    {
     "data": {
      "image/png": "[encoded data removed]",
      "text/plain": [
       "<Figure size 1152x288 with 5 Axes>"
      ]
     },
     "metadata": {
      "needs_background": "light"
     },
     "output_type": "display_data"
    }
   ],
   "source": [
    "# lets see how price are related with other variable using scatter plot\n",
    "\n",
    "sb.pairplot(am_data,x_vars=['wheelbase', 'carlength', 'carwidth', 'carheight', 'curbweight'],y_vars='price',height=4,aspect=1,kind='scatter');\n",
    "sb.pairplot(am_data,x_vars=['enginesize', 'boreratio', 'stroke', 'compressionratio', 'horsepower'],y_vars='price',height=4,aspect=1,kind='scatter');\n",
    "sb.pairplot(am_data,x_vars=['peakrpm', 'citympg', 'highwaympg', 'price'],y_vars='price',height=4,aspect=1,kind='scatter');\n"
   ]
  },
  {
   "cell_type": "markdown",
   "id": "c0cd7c45",
   "metadata": {},
   "source": [
    "we can see that, price and curbweight,enginesize,horsepower make a linear relation \n",
    "price and wheelbase,carlength,carwidth has slight linear relationship\n",
    "but there is no linear relation b/w price and carheight,boreratio,storke,compressionration,peakrpm,citympg,highwaympg"
   ]
  },
  {
   "cell_type": "code",
   "execution_count": 91,
   "id": "32acd376",
   "metadata": {},
   "outputs": [
    {
     "data": {
      "image/png": "[encoded data removed]",
      "text/plain": [
       "<Figure size 864x504 with 2 Axes>"
      ]
     },
     "metadata": {
      "needs_background": "light"
     },
     "output_type": "display_data"
    }
   ],
   "source": [
    "# lets see the correlation b/w diff variables\n",
    "\n",
    "plt.figure(figsize=(12,7))\n",
    "sb.heatmap(am_data.corr(),annot=True,cmap='Reds');\n",
    "\n"
   ]
  },
  {
   "cell_type": "markdown",
   "id": "13299d12",
   "metadata": {},
   "source": [
    "we can see that Price is positively correlated with wheelbase, carlength, carwidth, curbweight, enginesize, horsepower\n",
    "and Price is negatively correlated with citympg and highwaympg.."
   ]
  },
  {
   "cell_type": "code",
   "execution_count": 92,
   "id": "9c079438",
   "metadata": {},
   "outputs": [
    {
     "data": {
      "image/png": "[encoded data removed]",
      "text/plain": [
       "<Figure size 1080x1440 with 8 Axes>"
      ]
     },
     "metadata": {
      "needs_background": "light"
     },
     "output_type": "display_data"
    }
   ],
   "source": [
    "# we are using barplot to show relation of categorical and target variable\n",
    "\n",
    "plt.figure(figsize = (15,20))\n",
    "plt.subplot(4,2,1)\n",
    "sb.barplot(x = 'fueltype', y = 'price', data = am_data,color='salmon');\n",
    "plt.subplot(4,2,2)\n",
    "sb.barplot(x = 'aspiration', y = 'price', data = am_data,color='salmon');\n",
    "plt.subplot(4,2,3)\n",
    "sb.barplot(x = 'carbody', y = 'price', data = am_data,color='salmon');\n",
    "plt.subplot(4,2,4)\n",
    "sb.barplot(x = 'drivewheel', y = 'price', data = am_data,color='salmon');\n",
    "plt.subplot(4,2,5)\n",
    "sb.barplot(x = 'enginelocation', y = 'price', data = am_data,color='salmon');\n",
    "plt.subplot(4,2,6)\n",
    "sb.barplot(x = 'enginetype', y = 'price', data = am_data,color='salmon');\n",
    "plt.subplot(4,2,7)\n",
    "sb.barplot(x = 'cylindernumber', y = 'price', data = am_data,color='salmon');\n",
    "plt.subplot(4,2,8)\n",
    "sb.barplot(x = 'fuelsystem', y = 'price', data =am_data,color='salmon');"
   ]
  },
  {
   "cell_type": "markdown",
   "id": "cb6e01e3",
   "metadata": {},
   "source": [
    "we can see that,diesel cars are mostly used as compared to fuel gas cars.\n",
    "cars with turbo aspiration and rwd drivewheel with rear engine location are mostly used,\n",
    "The price of car is directly proportional to no. of cylinders in most cases,\n",
    "all the types of carbody is relatively cheaper as compared to convertible and hardtop carbody,\n",
    "dohcv enginetype with  mpfi fuelsystem are mostly used\n"
   ]
  },
  {
   "cell_type": "code",
   "execution_count": 93,
   "id": "60ae3f2f",
   "metadata": {
    "scrolled": true
   },
   "outputs": [
    {
     "data": {
      "image/png": "[encoded data removed]",
      "text/plain": [
       "<Figure size 1296x360 with 1 Axes>"
      ]
     },
     "metadata": {
      "needs_background": "light"
     },
     "output_type": "display_data"
    }
   ],
   "source": [
    "plt.figure(figsize = (18,5))\n",
    "\n",
    "sb.barplot(x = 'car_company', y = 'price', data = am_data,color='salmon');"
   ]
  },
  {
   "cell_type": "markdown",
   "id": "01cfdc2d",
   "metadata": {},
   "source": [
    " it is clearly shows that the brands with most expensive vehicles in the data belong to bmw,jaguar,buick & porsche"
   ]
  },
  {
   "cell_type": "markdown",
   "id": "85d323fd",
   "metadata": {},
   "source": [
    "### Data Preparation :"
   ]
  },
  {
   "cell_type": "code",
   "execution_count": 77,
   "id": "f23c5031",
   "metadata": {},
   "outputs": [],
   "source": [
    "# prepare data for model building.\n",
    "\n",
    "# Split the data into x and y.\n",
    "\n",
    "x = am_data.drop(['price'],axis=1)\n",
    "y = am_data['price']"
   ]
  },
  {
   "cell_type": "code",
   "execution_count": 78,
   "id": "20f87805",
   "metadata": {},
   "outputs": [],
   "source": [
    "# Creating dummy variables for categorical variables\n",
    "\n",
    "categorical_var = am_data.select_dtypes(include=['object'])\n",
    "\n",
    "# convert into dummies\n",
    "dummies = pd.get_dummies(categorical_var, drop_first=True)\n",
    "\n",
    "# drop categorical variables \n",
    "x = x.drop(list(categorical_var.columns), axis=1)\n",
    "\n",
    "# concat dummy variables with X\n",
    "x= pd.concat([x, dummies], axis=1)"
   ]
  },
  {
   "cell_type": "markdown",
   "id": "5a582b40",
   "metadata": {},
   "source": [
    "#### Scaling the features and getting the final list of columns in dataframe for model building.\n"
   ]
  },
  {
   "cell_type": "code",
   "execution_count": 79,
   "id": "dc0d2579",
   "metadata": {},
   "outputs": [
    {
     "data": {
      "text/plain": [
       "Index(['symboling', 'wheelbase', 'carlength', 'carwidth', 'carheight',\n",
       "       'curbweight', 'enginesize', 'boreratio', 'stroke', 'compressionratio',\n",
       "       'horsepower', 'peakrpm', 'citympg', 'highwaympg',\n",
       "       'car_company_alfa-romero', 'car_company_audi', 'car_company_bmw',\n",
       "       'car_company_buick', 'car_company_chevrolet', 'car_company_dodge',\n",
       "       'car_company_honda', 'car_company_isuzu', 'car_company_jaguar',\n",
       "       'car_company_mazda', 'car_company_mercury', 'car_company_mitsubishi',\n",
       "       'car_company_peugeot', 'car_company_plymouth', 'car_company_porsche',\n",
       "       'car_company_renault', 'car_company_saab', 'car_company_subaru',\n",
       "       'car_company_toyota', 'car_company_volkswagen', 'car_company_volvo',\n",
       "       'fueltype_gas', 'aspiration_turbo', 'doornumber_two', 'carbody_hardtop',\n",
       "       'carbody_hatchback', 'carbody_sedan', 'carbody_wagon', 'drivewheel_fwd',\n",
       "       'drivewheel_rwd', 'enginelocation_rear', 'enginetype_dohcv',\n",
       "       'enginetype_l', 'enginetype_ohc', 'enginetype_ohcf', 'enginetype_ohcv',\n",
       "       'enginetype_rotor', 'cylindernumber_five', 'cylindernumber_four',\n",
       "       'cylindernumber_six', 'cylindernumber_three', 'cylindernumber_twelve',\n",
       "       'cylindernumber_two', 'fuelsystem_2bbl', 'fuelsystem_4bbl',\n",
       "       'fuelsystem_idi', 'fuelsystem_mfi', 'fuelsystem_mpfi',\n",
       "       'fuelsystem_spdi', 'fuelsystem_spfi'],\n",
       "      dtype='object')"
      ]
     },
     "execution_count": 79,
     "metadata": {},
     "output_type": "execute_result"
    }
   ],
   "source": [
    "from sklearn.preprocessing import scale\n",
    "cols = x.columns   # storing column names in cols\n",
    "x = pd.DataFrame(scale(x))  # scaling (the df is converted to a numpy array)\n",
    "x.columns = cols\n",
    "x.columns\n"
   ]
  },
  {
   "cell_type": "code",
   "execution_count": 80,
   "id": "41a12143",
   "metadata": {},
   "outputs": [],
   "source": [
    "# split into train and test\n",
    "\n",
    "from sklearn.model_selection import train_test_split\n",
    "x_train, x_test, y_train, y_test = train_test_split(x, y,test_size = 0.3)"
   ]
  },
  {
   "cell_type": "code",
   "execution_count": 81,
   "id": "2268eb35",
   "metadata": {},
   "outputs": [
    {
     "data": {
      "text/plain": [
       "((143, 64), (62, 64))"
      ]
     },
     "execution_count": 81,
     "metadata": {},
     "output_type": "execute_result"
    }
   ],
   "source": [
    "x_train.shape,x_test.shape"
   ]
  },
  {
   "cell_type": "markdown",
   "id": "2881daf3",
   "metadata": {},
   "source": [
    "### Model Building :"
   ]
  },
  {
   "cell_type": "code",
   "execution_count": 82,
   "id": "7686f490",
   "metadata": {},
   "outputs": [],
   "source": [
    "# Building the first model with all the features\n",
    "\n",
    "from sklearn.linear_model import LinearRegression\n",
    "\n",
    "#  create instance\n",
    "lr = LinearRegression()\n"
   ]
  },
  {
   "cell_type": "code",
   "execution_count": 83,
   "id": "6026d257",
   "metadata": {},
   "outputs": [],
   "source": [
    "# fitting the training set\n",
    "lr.fit(x_train, y_train)\n",
    "\n",
    "# predict the test set\n",
    "y_pred = lr.predict(x_test)\n"
   ]
  },
  {
   "cell_type": "code",
   "execution_count": 84,
   "id": "fe023cce",
   "metadata": {},
   "outputs": [],
   "source": [
    "from sklearn.metrics import r2_score\n"
   ]
  },
  {
   "cell_type": "code",
   "execution_count": 57,
   "id": "54b05bc6",
   "metadata": {},
   "outputs": [
    {
     "data": {
      "text/plain": [
       "0.8987456240637078"
      ]
     },
     "execution_count": 57,
     "metadata": {},
     "output_type": "execute_result"
    }
   ],
   "source": [
    "r2_score(y_test,y_pred)"
   ]
  },
  {
   "cell_type": "markdown",
   "id": "c36e1d92",
   "metadata": {},
   "source": [
    "getting 89% R-squared with all the variables,Now we will build the model with lesser features"
   ]
  },
  {
   "cell_type": "code",
   "execution_count": 85,
   "id": "a4db5093",
   "metadata": {},
   "outputs": [],
   "source": [
    "# for lessor features we will use RFE to select optimal features\n",
    "\n",
    "from sklearn.feature_selection import RFE"
   ]
  },
  {
   "cell_type": "code",
   "execution_count": 86,
   "id": "acf3da02",
   "metadata": {},
   "outputs": [
    {
     "data": {
      "text/plain": [
       "RFE(estimator=LinearRegression(), n_features_to_select=12)"
      ]
     },
     "execution_count": 86,
     "metadata": {},
     "output_type": "execute_result"
    }
   ],
   "source": [
    "#create rfe parameter\n",
    "lr=LinearRegression()\n",
    "rfe=RFE(lr,12)\n",
    "rfe.fit(x_train,y_train)"
   ]
  },
  {
   "cell_type": "code",
   "execution_count": 87,
   "id": "17b5d5ff",
   "metadata": {},
   "outputs": [
    {
     "data": {
      "text/plain": [
       "array([False,  True,  True,  True, False,  True, False, False, False,\n",
       "       False, False, False, False, False, False, False,  True, False,\n",
       "       False, False, False, False, False, False, False, False,  True,\n",
       "       False,  True, False, False, False, False, False, False, False,\n",
       "       False, False,  True,  True,  True,  True, False, False,  True,\n",
       "       False, False, False, False, False, False, False, False, False,\n",
       "       False, False, False, False, False, False, False, False, False,\n",
       "       False])"
      ]
     },
     "execution_count": 87,
     "metadata": {},
     "output_type": "execute_result"
    }
   ],
   "source": [
    "rfe.support_"
   ]
  },
  {
   "cell_type": "code",
   "execution_count": 88,
   "id": "503aff64",
   "metadata": {},
   "outputs": [
    {
     "data": {
      "text/plain": [
       "Index(['wheelbase', 'carlength', 'carwidth', 'curbweight', 'car_company_bmw',\n",
       "       'car_company_peugeot', 'car_company_porsche', 'carbody_hardtop',\n",
       "       'carbody_hatchback', 'carbody_sedan', 'carbody_wagon',\n",
       "       'enginelocation_rear'],\n",
       "      dtype='object')"
      ]
     },
     "execution_count": 88,
     "metadata": {},
     "output_type": "execute_result"
    }
   ],
   "source": [
    "x_train.columns[rfe.support_]"
   ]
  },
  {
   "cell_type": "code",
   "execution_count": 89,
   "id": "703e332a",
   "metadata": {},
   "outputs": [],
   "source": [
    "# subset the features selected by rfe\n",
    "    \n",
    "cols=x_train.columns[rfe.support_]"
   ]
  },
  {
   "cell_type": "code",
   "execution_count": 90,
   "id": "c05064f0",
   "metadata": {},
   "outputs": [
    {
     "data": {
      "text/html": [
       "<div>\n",
       "<style scoped>\n",
       "    .dataframe tbody tr th:only-of-type {\n",
       "        vertical-align: middle;\n",
       "    }\n",
       "\n",
       "    .dataframe tbody tr th {\n",
       "        vertical-align: top;\n",
       "    }\n",
       "\n",
       "    .dataframe thead th {\n",
       "        text-align: right;\n",
       "    }\n",
       "</style>\n",
       "<table border=\"1\" class=\"dataframe\">\n",
       "  <thead>\n",
       "    <tr style=\"text-align: right;\">\n",
       "      <th></th>\n",
       "      <th>const</th>\n",
       "      <th>wheelbase</th>\n",
       "      <th>carlength</th>\n",
       "      <th>carwidth</th>\n",
       "      <th>curbweight</th>\n",
       "      <th>car_company_bmw</th>\n",
       "      <th>car_company_peugeot</th>\n",
       "      <th>car_company_porsche</th>\n",
       "      <th>carbody_hardtop</th>\n",
       "      <th>carbody_hatchback</th>\n",
       "      <th>carbody_sedan</th>\n",
       "      <th>carbody_wagon</th>\n",
       "      <th>enginelocation_rear</th>\n",
       "    </tr>\n",
       "  </thead>\n",
       "  <tbody>\n",
       "    <tr>\n",
       "      <th>0</th>\n",
       "      <td>1.0</td>\n",
       "      <td>-1.690772</td>\n",
       "      <td>-0.426521</td>\n",
       "      <td>-0.844782</td>\n",
       "      <td>-0.014566</td>\n",
       "      <td>-0.201517</td>\n",
       "      <td>-0.23812</td>\n",
       "      <td>-0.158114</td>\n",
       "      <td>-0.201517</td>\n",
       "      <td>-0.720082</td>\n",
       "      <td>-0.938474</td>\n",
       "      <td>-0.372678</td>\n",
       "      <td>-0.121867</td>\n",
       "    </tr>\n",
       "    <tr>\n",
       "      <th>6</th>\n",
       "      <td>1.0</td>\n",
       "      <td>1.172521</td>\n",
       "      <td>1.515437</td>\n",
       "      <td>2.566488</td>\n",
       "      <td>0.555313</td>\n",
       "      <td>-0.201517</td>\n",
       "      <td>-0.23812</td>\n",
       "      <td>-0.158114</td>\n",
       "      <td>-0.201517</td>\n",
       "      <td>-0.720082</td>\n",
       "      <td>1.065559</td>\n",
       "      <td>-0.372678</td>\n",
       "      <td>-0.121867</td>\n",
       "    </tr>\n",
       "    <tr>\n",
       "      <th>31</th>\n",
       "      <td>1.0</td>\n",
       "      <td>-2.023713</td>\n",
       "      <td>-2.392856</td>\n",
       "      <td>-0.938242</td>\n",
       "      <td>-1.418085</td>\n",
       "      <td>-0.201517</td>\n",
       "      <td>-0.23812</td>\n",
       "      <td>-0.158114</td>\n",
       "      <td>-0.201517</td>\n",
       "      <td>1.388730</td>\n",
       "      <td>-0.938474</td>\n",
       "      <td>-0.372678</td>\n",
       "      <td>-0.121867</td>\n",
       "    </tr>\n",
       "  </tbody>\n",
       "</table>\n",
       "</div>"
      ],
      "text/plain": [
       "    const  wheelbase  carlength  carwidth  curbweight  car_company_bmw  \\\n",
       "0     1.0  -1.690772  -0.426521 -0.844782   -0.014566        -0.201517   \n",
       "6     1.0   1.172521   1.515437  2.566488    0.555313        -0.201517   \n",
       "31    1.0  -2.023713  -2.392856 -0.938242   -1.418085        -0.201517   \n",
       "\n",
       "    car_company_peugeot  car_company_porsche  carbody_hardtop  \\\n",
       "0              -0.23812            -0.158114        -0.201517   \n",
       "6              -0.23812            -0.158114        -0.201517   \n",
       "31             -0.23812            -0.158114        -0.201517   \n",
       "\n",
       "    carbody_hatchback  carbody_sedan  carbody_wagon  enginelocation_rear  \n",
       "0           -0.720082      -0.938474      -0.372678            -0.121867  \n",
       "6           -0.720082       1.065559      -0.372678            -0.121867  \n",
       "31           1.388730      -0.938474      -0.372678            -0.121867  "
      ]
     },
     "execution_count": 90,
     "metadata": {},
     "output_type": "execute_result"
    }
   ],
   "source": [
    "# fitting SLR to training set \n",
    "\n",
    "import statsmodels.api as sm       # Model Building \n",
    "\n",
    "x_train_sm = sm.add_constant(x_train[cols])       # add constant to get an intercept\n",
    "\n",
    "lr = sm.OLS(y_train,x_train_sm).fit()        # fit the regression line using OLS \n",
    "\n",
    "x_train_sm.head(3)"
   ]
  },
  {
   "cell_type": "code",
   "execution_count": 91,
   "id": "026adb52",
   "metadata": {},
   "outputs": [
    {
     "name": "stdout",
     "output_type": "stream",
     "text": [
      "                            OLS Regression Results                            \n",
      "==============================================================================\n",
      "Dep. Variable:                  price   R-squared:                       0.924\n",
      "Model:                            OLS   Adj. R-squared:                  0.917\n",
      "Method:                 Least Squares   F-statistic:                     131.7\n",
      "Date:                Sun, 17 Apr 2022   Prob (F-statistic):           1.45e-66\n",
      "Time:                        21:02:02   Log-Likelihood:                -1287.7\n",
      "No. Observations:                 143   AIC:                             2601.\n",
      "Df Residuals:                     130   BIC:                             2640.\n",
      "Df Model:                          12                                         \n",
      "Covariance Type:            nonrobust                                         \n",
      "=======================================================================================\n",
      "                          coef    std err          t      P>|t|      [0.025      0.975]\n",
      "---------------------------------------------------------------------------------------\n",
      "const                 1.32e+04    174.351     75.681      0.000    1.29e+04    1.35e+04\n",
      "wheelbase            1141.5663    444.316      2.569      0.011     262.540    2020.592\n",
      "carlength           -2017.3749    543.197     -3.714      0.000   -3092.025    -942.725\n",
      "carwidth             2201.6450    462.080      4.765      0.000    1287.475    3115.815\n",
      "curbweight           5202.7187    460.095     11.308      0.000    4292.477    6112.961\n",
      "car_company_bmw      1724.5954    212.162      8.129      0.000    1304.858    2144.333\n",
      "car_company_peugeot -1274.8780    180.067     -7.080      0.000   -1631.120    -918.636\n",
      "car_company_porsche   724.4000    335.880      2.157      0.033      59.901    1388.899\n",
      "carbody_hardtop      -985.9717    294.170     -3.352      0.001   -1567.952    -403.992\n",
      "carbody_hatchback   -1841.2344    541.672     -3.399      0.001   -2912.867    -769.602\n",
      "carbody_sedan       -1614.6189    598.565     -2.697      0.008   -2798.808    -430.429\n",
      "carbody_wagon       -1752.9958    415.689     -4.217      0.000   -2575.388    -930.604\n",
      "enginelocation_rear  2045.5322    340.030      6.016      0.000    1372.823    2718.241\n",
      "==============================================================================\n",
      "Omnibus:                        3.354   Durbin-Watson:                   1.902\n",
      "Prob(Omnibus):                  0.187   Jarque-Bera (JB):                3.099\n",
      "Skew:                           0.360   Prob(JB):                        0.212\n",
      "Kurtosis:                       3.039   Cond. No.                         11.0\n",
      "==============================================================================\n",
      "\n",
      "Notes:\n",
      "[1] Standard Errors assume that the covariance matrix of the errors is correctly specified.\n"
     ]
    }
   ],
   "source": [
    "print(lr.summary())"
   ]
  },
  {
   "cell_type": "code",
   "execution_count": 92,
   "id": "e4c9df70",
   "metadata": {},
   "outputs": [
    {
     "data": {
      "text/html": [
       "<div>\n",
       "<style scoped>\n",
       "    .dataframe tbody tr th:only-of-type {\n",
       "        vertical-align: middle;\n",
       "    }\n",
       "\n",
       "    .dataframe tbody tr th {\n",
       "        vertical-align: top;\n",
       "    }\n",
       "\n",
       "    .dataframe thead th {\n",
       "        text-align: right;\n",
       "    }\n",
       "</style>\n",
       "<table border=\"1\" class=\"dataframe\">\n",
       "  <thead>\n",
       "    <tr style=\"text-align: right;\">\n",
       "      <th></th>\n",
       "      <th>Features</th>\n",
       "      <th>VIF</th>\n",
       "    </tr>\n",
       "  </thead>\n",
       "  <tbody>\n",
       "    <tr>\n",
       "      <th>9</th>\n",
       "      <td>carbody_sedan</td>\n",
       "      <td>12.02</td>\n",
       "    </tr>\n",
       "    <tr>\n",
       "      <th>1</th>\n",
       "      <td>carlength</td>\n",
       "      <td>9.85</td>\n",
       "    </tr>\n",
       "    <tr>\n",
       "      <th>8</th>\n",
       "      <td>carbody_hatchback</td>\n",
       "      <td>9.55</td>\n",
       "    </tr>\n",
       "    <tr>\n",
       "      <th>3</th>\n",
       "      <td>curbweight</td>\n",
       "      <td>6.90</td>\n",
       "    </tr>\n",
       "    <tr>\n",
       "      <th>0</th>\n",
       "      <td>wheelbase</td>\n",
       "      <td>6.85</td>\n",
       "    </tr>\n",
       "    <tr>\n",
       "      <th>2</th>\n",
       "      <td>carwidth</td>\n",
       "      <td>6.83</td>\n",
       "    </tr>\n",
       "    <tr>\n",
       "      <th>10</th>\n",
       "      <td>carbody_wagon</td>\n",
       "      <td>6.23</td>\n",
       "    </tr>\n",
       "    <tr>\n",
       "      <th>11</th>\n",
       "      <td>enginelocation_rear</td>\n",
       "      <td>3.70</td>\n",
       "    </tr>\n",
       "    <tr>\n",
       "      <th>6</th>\n",
       "      <td>car_company_porsche</td>\n",
       "      <td>3.26</td>\n",
       "    </tr>\n",
       "    <tr>\n",
       "      <th>7</th>\n",
       "      <td>carbody_hardtop</td>\n",
       "      <td>3.11</td>\n",
       "    </tr>\n",
       "    <tr>\n",
       "      <th>5</th>\n",
       "      <td>car_company_peugeot</td>\n",
       "      <td>1.40</td>\n",
       "    </tr>\n",
       "    <tr>\n",
       "      <th>4</th>\n",
       "      <td>car_company_bmw</td>\n",
       "      <td>1.09</td>\n",
       "    </tr>\n",
       "  </tbody>\n",
       "</table>\n",
       "</div>"
      ],
      "text/plain": [
       "               Features    VIF\n",
       "9         carbody_sedan  12.02\n",
       "1             carlength   9.85\n",
       "8     carbody_hatchback   9.55\n",
       "3            curbweight   6.90\n",
       "0             wheelbase   6.85\n",
       "2              carwidth   6.83\n",
       "10        carbody_wagon   6.23\n",
       "11  enginelocation_rear   3.70\n",
       "6   car_company_porsche   3.26\n",
       "7       carbody_hardtop   3.11\n",
       "5   car_company_peugeot   1.40\n",
       "4       car_company_bmw   1.09"
      ]
     },
     "execution_count": 92,
     "metadata": {},
     "output_type": "execute_result"
    }
   ],
   "source": [
    "# to check multicollinearity\n",
    "\n",
    "from statsmodels.stats.outliers_influence import variance_inflation_factor\n",
    "vif_data = pd.DataFrame()\n",
    "vif_data['Features'] = x_train[cols].columns\n",
    "vif_data['VIF'] = [variance_inflation_factor( x_train[cols].values, i).round(2) \n",
    "                   for i in range( len(x_train[cols].columns))]\n",
    "vif_data = vif_data.sort_values(by = 'VIF', ascending = False)\n",
    "vif_data"
   ]
  },
  {
   "cell_type": "markdown",
   "id": "6454921b",
   "metadata": {},
   "source": [
    "we can see that few variables have multicollinearity lets check with 10 variable"
   ]
  },
  {
   "cell_type": "markdown",
   "id": "274e1609",
   "metadata": {},
   "source": [
    "### Build the model with 10 variables:"
   ]
  },
  {
   "cell_type": "code",
   "execution_count": 93,
   "id": "53be072a",
   "metadata": {},
   "outputs": [
    {
     "data": {
      "text/plain": [
       "RFE(estimator=LinearRegression(), n_features_to_select=10)"
      ]
     },
     "execution_count": 93,
     "metadata": {},
     "output_type": "execute_result"
    }
   ],
   "source": [
    "lr2=LinearRegression()\n",
    "rfe2=RFE(lr2,10)\n",
    "rfe2.fit(x_train,y_train)"
   ]
  },
  {
   "cell_type": "code",
   "execution_count": 94,
   "id": "b11df049",
   "metadata": {},
   "outputs": [
    {
     "data": {
      "text/plain": [
       "Index(['wheelbase', 'carlength', 'carwidth', 'curbweight', 'car_company_bmw',\n",
       "       'car_company_peugeot', 'carbody_hatchback', 'carbody_sedan',\n",
       "       'carbody_wagon', 'enginelocation_rear'],\n",
       "      dtype='object')"
      ]
     },
     "execution_count": 94,
     "metadata": {},
     "output_type": "execute_result"
    }
   ],
   "source": [
    "x_train.columns[rfe2.support_]"
   ]
  },
  {
   "cell_type": "code",
   "execution_count": 95,
   "id": "b5611b21",
   "metadata": {},
   "outputs": [],
   "source": [
    "cols_1=x_train.columns[rfe2.support_]"
   ]
  },
  {
   "cell_type": "code",
   "execution_count": 96,
   "id": "7f75b43d",
   "metadata": {},
   "outputs": [
    {
     "data": {
      "text/html": [
       "<div>\n",
       "<style scoped>\n",
       "    .dataframe tbody tr th:only-of-type {\n",
       "        vertical-align: middle;\n",
       "    }\n",
       "\n",
       "    .dataframe tbody tr th {\n",
       "        vertical-align: top;\n",
       "    }\n",
       "\n",
       "    .dataframe thead th {\n",
       "        text-align: right;\n",
       "    }\n",
       "</style>\n",
       "<table border=\"1\" class=\"dataframe\">\n",
       "  <thead>\n",
       "    <tr style=\"text-align: right;\">\n",
       "      <th></th>\n",
       "      <th>const</th>\n",
       "      <th>wheelbase</th>\n",
       "      <th>carlength</th>\n",
       "      <th>carwidth</th>\n",
       "      <th>curbweight</th>\n",
       "      <th>car_company_bmw</th>\n",
       "      <th>car_company_peugeot</th>\n",
       "      <th>carbody_hatchback</th>\n",
       "      <th>carbody_sedan</th>\n",
       "      <th>carbody_wagon</th>\n",
       "      <th>enginelocation_rear</th>\n",
       "    </tr>\n",
       "  </thead>\n",
       "  <tbody>\n",
       "    <tr>\n",
       "      <th>0</th>\n",
       "      <td>1.0</td>\n",
       "      <td>-1.690772</td>\n",
       "      <td>-0.426521</td>\n",
       "      <td>-0.844782</td>\n",
       "      <td>-0.014566</td>\n",
       "      <td>-0.201517</td>\n",
       "      <td>-0.23812</td>\n",
       "      <td>-0.720082</td>\n",
       "      <td>-0.938474</td>\n",
       "      <td>-0.372678</td>\n",
       "      <td>-0.121867</td>\n",
       "    </tr>\n",
       "    <tr>\n",
       "      <th>6</th>\n",
       "      <td>1.0</td>\n",
       "      <td>1.172521</td>\n",
       "      <td>1.515437</td>\n",
       "      <td>2.566488</td>\n",
       "      <td>0.555313</td>\n",
       "      <td>-0.201517</td>\n",
       "      <td>-0.23812</td>\n",
       "      <td>-0.720082</td>\n",
       "      <td>1.065559</td>\n",
       "      <td>-0.372678</td>\n",
       "      <td>-0.121867</td>\n",
       "    </tr>\n",
       "    <tr>\n",
       "      <th>31</th>\n",
       "      <td>1.0</td>\n",
       "      <td>-2.023713</td>\n",
       "      <td>-2.392856</td>\n",
       "      <td>-0.938242</td>\n",
       "      <td>-1.418085</td>\n",
       "      <td>-0.201517</td>\n",
       "      <td>-0.23812</td>\n",
       "      <td>1.388730</td>\n",
       "      <td>-0.938474</td>\n",
       "      <td>-0.372678</td>\n",
       "      <td>-0.121867</td>\n",
       "    </tr>\n",
       "  </tbody>\n",
       "</table>\n",
       "</div>"
      ],
      "text/plain": [
       "    const  wheelbase  carlength  carwidth  curbweight  car_company_bmw  \\\n",
       "0     1.0  -1.690772  -0.426521 -0.844782   -0.014566        -0.201517   \n",
       "6     1.0   1.172521   1.515437  2.566488    0.555313        -0.201517   \n",
       "31    1.0  -2.023713  -2.392856 -0.938242   -1.418085        -0.201517   \n",
       "\n",
       "    car_company_peugeot  carbody_hatchback  carbody_sedan  carbody_wagon  \\\n",
       "0              -0.23812          -0.720082      -0.938474      -0.372678   \n",
       "6              -0.23812          -0.720082       1.065559      -0.372678   \n",
       "31             -0.23812           1.388730      -0.938474      -0.372678   \n",
       "\n",
       "    enginelocation_rear  \n",
       "0             -0.121867  \n",
       "6             -0.121867  \n",
       "31            -0.121867  "
      ]
     },
     "execution_count": 96,
     "metadata": {},
     "output_type": "execute_result"
    }
   ],
   "source": [
    "x_train_sm1 = sm.add_constant(x_train[cols_1])       \n",
    "lr2 = sm.OLS(y_train,x_train_sm1).fit()       \n",
    "x_train_sm1.head(3)"
   ]
  },
  {
   "cell_type": "code",
   "execution_count": 97,
   "id": "e4345263",
   "metadata": {},
   "outputs": [
    {
     "name": "stdout",
     "output_type": "stream",
     "text": [
      "                            OLS Regression Results                            \n",
      "==============================================================================\n",
      "Dep. Variable:                  price   R-squared:                       0.915\n",
      "Model:                            OLS   Adj. R-squared:                  0.909\n",
      "Method:                 Least Squares   F-statistic:                     142.3\n",
      "Date:                Sun, 17 Apr 2022   Prob (F-statistic):           1.32e-65\n",
      "Time:                        21:02:14   Log-Likelihood:                -1295.6\n",
      "No. Observations:                 143   AIC:                             2613.\n",
      "Df Residuals:                     132   BIC:                             2646.\n",
      "Df Model:                          10                                         \n",
      "Covariance Type:            nonrobust                                         \n",
      "=======================================================================================\n",
      "                          coef    std err          t      P>|t|      [0.025      0.975]\n",
      "---------------------------------------------------------------------------------------\n",
      "const                1.318e+04    182.836     72.080      0.000    1.28e+04    1.35e+04\n",
      "wheelbase             754.4522    454.069      1.662      0.099    -143.741    1652.646\n",
      "carlength           -2300.6603    564.425     -4.076      0.000   -3417.148   -1184.172\n",
      "carwidth             2478.3128    470.742      5.265      0.000    1547.139    3409.487\n",
      "curbweight           5505.5943    474.205     11.610      0.000    4567.569    6443.619\n",
      "car_company_bmw      1746.5180    222.425      7.852      0.000    1306.539    2186.497\n",
      "car_company_peugeot -1216.2475    188.232     -6.461      0.000   -1588.588    -843.907\n",
      "carbody_hatchback    -532.0697    410.345     -1.297      0.197   -1343.773     279.634\n",
      "carbody_sedan        -141.7111    442.210     -0.320      0.749   -1016.446     733.024\n",
      "carbody_wagon        -767.2633    324.515     -2.364      0.020   -1409.186    -125.341\n",
      "enginelocation_rear  2252.8688    213.159     10.569      0.000    1831.220    2674.518\n",
      "==============================================================================\n",
      "Omnibus:                        2.760   Durbin-Watson:                   1.852\n",
      "Prob(Omnibus):                  0.252   Jarque-Bera (JB):                2.359\n",
      "Skew:                           0.305   Prob(JB):                        0.307\n",
      "Kurtosis:                       3.152   Cond. No.                         7.75\n",
      "==============================================================================\n",
      "\n",
      "Notes:\n",
      "[1] Standard Errors assume that the covariance matrix of the errors is correctly specified.\n"
     ]
    }
   ],
   "source": [
    "print(lr2.summary())"
   ]
  },
  {
   "cell_type": "code",
   "execution_count": 98,
   "id": "bc111266",
   "metadata": {},
   "outputs": [
    {
     "data": {
      "text/html": [
       "<div>\n",
       "<style scoped>\n",
       "    .dataframe tbody tr th:only-of-type {\n",
       "        vertical-align: middle;\n",
       "    }\n",
       "\n",
       "    .dataframe tbody tr th {\n",
       "        vertical-align: top;\n",
       "    }\n",
       "\n",
       "    .dataframe thead th {\n",
       "        text-align: right;\n",
       "    }\n",
       "</style>\n",
       "<table border=\"1\" class=\"dataframe\">\n",
       "  <thead>\n",
       "    <tr style=\"text-align: right;\">\n",
       "      <th></th>\n",
       "      <th>Features</th>\n",
       "      <th>VIF</th>\n",
       "    </tr>\n",
       "  </thead>\n",
       "  <tbody>\n",
       "    <tr>\n",
       "      <th>1</th>\n",
       "      <td>carlength</td>\n",
       "      <td>9.67</td>\n",
       "    </tr>\n",
       "    <tr>\n",
       "      <th>3</th>\n",
       "      <td>curbweight</td>\n",
       "      <td>6.67</td>\n",
       "    </tr>\n",
       "    <tr>\n",
       "      <th>0</th>\n",
       "      <td>wheelbase</td>\n",
       "      <td>6.49</td>\n",
       "    </tr>\n",
       "    <tr>\n",
       "      <th>2</th>\n",
       "      <td>carwidth</td>\n",
       "      <td>6.44</td>\n",
       "    </tr>\n",
       "    <tr>\n",
       "      <th>7</th>\n",
       "      <td>carbody_sedan</td>\n",
       "      <td>5.96</td>\n",
       "    </tr>\n",
       "    <tr>\n",
       "      <th>6</th>\n",
       "      <td>carbody_hatchback</td>\n",
       "      <td>4.98</td>\n",
       "    </tr>\n",
       "    <tr>\n",
       "      <th>8</th>\n",
       "      <td>carbody_wagon</td>\n",
       "      <td>3.45</td>\n",
       "    </tr>\n",
       "    <tr>\n",
       "      <th>5</th>\n",
       "      <td>car_company_peugeot</td>\n",
       "      <td>1.39</td>\n",
       "    </tr>\n",
       "    <tr>\n",
       "      <th>9</th>\n",
       "      <td>enginelocation_rear</td>\n",
       "      <td>1.32</td>\n",
       "    </tr>\n",
       "    <tr>\n",
       "      <th>4</th>\n",
       "      <td>car_company_bmw</td>\n",
       "      <td>1.09</td>\n",
       "    </tr>\n",
       "  </tbody>\n",
       "</table>\n",
       "</div>"
      ],
      "text/plain": [
       "              Features   VIF\n",
       "1            carlength  9.67\n",
       "3           curbweight  6.67\n",
       "0            wheelbase  6.49\n",
       "2             carwidth  6.44\n",
       "7        carbody_sedan  5.96\n",
       "6    carbody_hatchback  4.98\n",
       "8        carbody_wagon  3.45\n",
       "5  car_company_peugeot  1.39\n",
       "9  enginelocation_rear  1.32\n",
       "4      car_company_bmw  1.09"
      ]
     },
     "execution_count": 98,
     "metadata": {},
     "output_type": "execute_result"
    }
   ],
   "source": [
    "# to check multicollinearity\n",
    "\n",
    "vif_data = pd.DataFrame()\n",
    "vif_data['Features'] = x_train[cols_1].columns\n",
    "vif_data['VIF'] = [variance_inflation_factor( x_train[cols_1].values, i).round(2) \n",
    "                   for i in range( len(x_train[cols_1].columns))]\n",
    "vif_data = vif_data.sort_values(by = 'VIF', ascending = False)\n",
    "vif_data"
   ]
  },
  {
   "cell_type": "code",
   "execution_count": 99,
   "id": "c253f0ff",
   "metadata": {},
   "outputs": [
    {
     "data": {
      "text/html": [
       "<div>\n",
       "<style scoped>\n",
       "    .dataframe tbody tr th:only-of-type {\n",
       "        vertical-align: middle;\n",
       "    }\n",
       "\n",
       "    .dataframe tbody tr th {\n",
       "        vertical-align: top;\n",
       "    }\n",
       "\n",
       "    .dataframe thead th {\n",
       "        text-align: right;\n",
       "    }\n",
       "</style>\n",
       "<table border=\"1\" class=\"dataframe\">\n",
       "  <thead>\n",
       "    <tr style=\"text-align: right;\">\n",
       "      <th></th>\n",
       "      <th>const</th>\n",
       "      <th>wheelbase</th>\n",
       "      <th>carlength</th>\n",
       "      <th>carwidth</th>\n",
       "      <th>car_company_bmw</th>\n",
       "      <th>car_company_peugeot</th>\n",
       "      <th>carbody_hatchback</th>\n",
       "      <th>carbody_sedan</th>\n",
       "      <th>carbody_wagon</th>\n",
       "      <th>enginelocation_rear</th>\n",
       "    </tr>\n",
       "  </thead>\n",
       "  <tbody>\n",
       "    <tr>\n",
       "      <th>0</th>\n",
       "      <td>1.0</td>\n",
       "      <td>-1.690772</td>\n",
       "      <td>-0.426521</td>\n",
       "      <td>-0.844782</td>\n",
       "      <td>-0.201517</td>\n",
       "      <td>-0.23812</td>\n",
       "      <td>-0.720082</td>\n",
       "      <td>-0.938474</td>\n",
       "      <td>-0.372678</td>\n",
       "      <td>-0.121867</td>\n",
       "    </tr>\n",
       "    <tr>\n",
       "      <th>6</th>\n",
       "      <td>1.0</td>\n",
       "      <td>1.172521</td>\n",
       "      <td>1.515437</td>\n",
       "      <td>2.566488</td>\n",
       "      <td>-0.201517</td>\n",
       "      <td>-0.23812</td>\n",
       "      <td>-0.720082</td>\n",
       "      <td>1.065559</td>\n",
       "      <td>-0.372678</td>\n",
       "      <td>-0.121867</td>\n",
       "    </tr>\n",
       "  </tbody>\n",
       "</table>\n",
       "</div>"
      ],
      "text/plain": [
       "   const  wheelbase  carlength  carwidth  car_company_bmw  \\\n",
       "0    1.0  -1.690772  -0.426521 -0.844782        -0.201517   \n",
       "6    1.0   1.172521   1.515437  2.566488        -0.201517   \n",
       "\n",
       "   car_company_peugeot  carbody_hatchback  carbody_sedan  carbody_wagon  \\\n",
       "0             -0.23812          -0.720082      -0.938474      -0.372678   \n",
       "6             -0.23812          -0.720082       1.065559      -0.372678   \n",
       "\n",
       "   enginelocation_rear  \n",
       "0            -0.121867  \n",
       "6            -0.121867  "
      ]
     },
     "execution_count": 99,
     "metadata": {},
     "output_type": "execute_result"
    }
   ],
   "source": [
    "x3 = x_train[cols_1].drop(['curbweight'], axis =1)\n",
    "\n",
    "x3_sm = sm.add_constant(x3)\n",
    "\n",
    "lr3 = sm.OLS(y_train,x3_sm).fit()\n",
    "\n",
    "x3_sm.head(2)\n"
   ]
  },
  {
   "cell_type": "code",
   "execution_count": 100,
   "id": "29345594",
   "metadata": {},
   "outputs": [
    {
     "name": "stdout",
     "output_type": "stream",
     "text": [
      "                            OLS Regression Results                            \n",
      "==============================================================================\n",
      "Dep. Variable:                  price   R-squared:                       0.828\n",
      "Model:                            OLS   Adj. R-squared:                  0.817\n",
      "Method:                 Least Squares   F-statistic:                     71.33\n",
      "Date:                Sun, 17 Apr 2022   Prob (F-statistic):           1.51e-46\n",
      "Time:                        21:02:23   Log-Likelihood:                -1345.9\n",
      "No. Observations:                 143   AIC:                             2712.\n",
      "Df Residuals:                     133   BIC:                             2742.\n",
      "Df Model:                           9                                         \n",
      "Covariance Type:            nonrobust                                         \n",
      "=======================================================================================\n",
      "                          coef    std err          t      P>|t|      [0.025      0.975]\n",
      "---------------------------------------------------------------------------------------\n",
      "const                1.324e+04    258.843     51.155      0.000    1.27e+04    1.38e+04\n",
      "wheelbase             836.3198    643.033      1.301      0.196    -435.574    2108.214\n",
      "carlength             548.6877    719.886      0.762      0.447    -875.218    1972.593\n",
      "carwidth             4853.7024    600.460      8.083      0.000    3666.017    6041.388\n",
      "car_company_bmw      2057.8051    312.729      6.580      0.000    1439.238    2676.372\n",
      "car_company_peugeot -1077.0325    266.056     -4.048      0.000   -1603.281    -550.784\n",
      "carbody_hatchback   -1332.9594    572.912     -2.327      0.021   -2466.158    -199.761\n",
      "carbody_sedan       -1709.9437    596.381     -2.867      0.005   -2889.562    -530.326\n",
      "carbody_wagon       -1333.7925    454.394     -2.935      0.004   -2232.565    -435.020\n",
      "enginelocation_rear  2523.9473    300.086      8.411      0.000    1930.389    3117.506\n",
      "==============================================================================\n",
      "Omnibus:                       16.140   Durbin-Watson:                   2.141\n",
      "Prob(Omnibus):                  0.000   Jarque-Bera (JB):               26.987\n",
      "Skew:                           0.550   Prob(JB):                     1.38e-06\n",
      "Kurtosis:                       4.822   Cond. No.                         6.70\n",
      "==============================================================================\n",
      "\n",
      "Notes:\n",
      "[1] Standard Errors assume that the covariance matrix of the errors is correctly specified.\n"
     ]
    }
   ],
   "source": [
    "print(lr3.summary())"
   ]
  },
  {
   "cell_type": "code",
   "execution_count": 101,
   "id": "d9cdf641",
   "metadata": {},
   "outputs": [
    {
     "data": {
      "text/html": [
       "<div>\n",
       "<style scoped>\n",
       "    .dataframe tbody tr th:only-of-type {\n",
       "        vertical-align: middle;\n",
       "    }\n",
       "\n",
       "    .dataframe tbody tr th {\n",
       "        vertical-align: top;\n",
       "    }\n",
       "\n",
       "    .dataframe thead th {\n",
       "        text-align: right;\n",
       "    }\n",
       "</style>\n",
       "<table border=\"1\" class=\"dataframe\">\n",
       "  <thead>\n",
       "    <tr style=\"text-align: right;\">\n",
       "      <th></th>\n",
       "      <th>Features</th>\n",
       "      <th>VIF</th>\n",
       "    </tr>\n",
       "  </thead>\n",
       "  <tbody>\n",
       "    <tr>\n",
       "      <th>1</th>\n",
       "      <td>carlength</td>\n",
       "      <td>7.84</td>\n",
       "    </tr>\n",
       "    <tr>\n",
       "      <th>0</th>\n",
       "      <td>wheelbase</td>\n",
       "      <td>6.49</td>\n",
       "    </tr>\n",
       "    <tr>\n",
       "      <th>6</th>\n",
       "      <td>carbody_sedan</td>\n",
       "      <td>5.40</td>\n",
       "    </tr>\n",
       "    <tr>\n",
       "      <th>2</th>\n",
       "      <td>carwidth</td>\n",
       "      <td>5.22</td>\n",
       "    </tr>\n",
       "    <tr>\n",
       "      <th>5</th>\n",
       "      <td>carbody_hatchback</td>\n",
       "      <td>4.84</td>\n",
       "    </tr>\n",
       "    <tr>\n",
       "      <th>7</th>\n",
       "      <td>carbody_wagon</td>\n",
       "      <td>3.37</td>\n",
       "    </tr>\n",
       "    <tr>\n",
       "      <th>4</th>\n",
       "      <td>car_company_peugeot</td>\n",
       "      <td>1.38</td>\n",
       "    </tr>\n",
       "    <tr>\n",
       "      <th>8</th>\n",
       "      <td>enginelocation_rear</td>\n",
       "      <td>1.31</td>\n",
       "    </tr>\n",
       "    <tr>\n",
       "      <th>3</th>\n",
       "      <td>car_company_bmw</td>\n",
       "      <td>1.08</td>\n",
       "    </tr>\n",
       "  </tbody>\n",
       "</table>\n",
       "</div>"
      ],
      "text/plain": [
       "              Features   VIF\n",
       "1            carlength  7.84\n",
       "0            wheelbase  6.49\n",
       "6        carbody_sedan  5.40\n",
       "2             carwidth  5.22\n",
       "5    carbody_hatchback  4.84\n",
       "7        carbody_wagon  3.37\n",
       "4  car_company_peugeot  1.38\n",
       "8  enginelocation_rear  1.31\n",
       "3      car_company_bmw  1.08"
      ]
     },
     "execution_count": 101,
     "metadata": {},
     "output_type": "execute_result"
    }
   ],
   "source": [
    "# to check multicollinearity\n",
    "\n",
    "vif_data = pd.DataFrame()\n",
    "vif_data['Features'] = x3.columns\n",
    "vif_data['VIF'] = [variance_inflation_factor( x3.values, i).round(2) \n",
    "                   for i in range( len(x3.columns))]\n",
    "vif_data = vif_data.sort_values(by = 'VIF', ascending = False)\n",
    "vif_data"
   ]
  },
  {
   "cell_type": "code",
   "execution_count": 102,
   "id": "38fbc8c3",
   "metadata": {},
   "outputs": [
    {
     "data": {
      "text/html": [
       "<div>\n",
       "<style scoped>\n",
       "    .dataframe tbody tr th:only-of-type {\n",
       "        vertical-align: middle;\n",
       "    }\n",
       "\n",
       "    .dataframe tbody tr th {\n",
       "        vertical-align: top;\n",
       "    }\n",
       "\n",
       "    .dataframe thead th {\n",
       "        text-align: right;\n",
       "    }\n",
       "</style>\n",
       "<table border=\"1\" class=\"dataframe\">\n",
       "  <thead>\n",
       "    <tr style=\"text-align: right;\">\n",
       "      <th></th>\n",
       "      <th>const</th>\n",
       "      <th>wheelbase</th>\n",
       "      <th>carwidth</th>\n",
       "      <th>car_company_bmw</th>\n",
       "      <th>car_company_peugeot</th>\n",
       "      <th>carbody_hatchback</th>\n",
       "      <th>carbody_sedan</th>\n",
       "      <th>carbody_wagon</th>\n",
       "      <th>enginelocation_rear</th>\n",
       "    </tr>\n",
       "  </thead>\n",
       "  <tbody>\n",
       "    <tr>\n",
       "      <th>0</th>\n",
       "      <td>1.0</td>\n",
       "      <td>-1.690772</td>\n",
       "      <td>-0.844782</td>\n",
       "      <td>-0.201517</td>\n",
       "      <td>-0.23812</td>\n",
       "      <td>-0.720082</td>\n",
       "      <td>-0.938474</td>\n",
       "      <td>-0.372678</td>\n",
       "      <td>-0.121867</td>\n",
       "    </tr>\n",
       "    <tr>\n",
       "      <th>6</th>\n",
       "      <td>1.0</td>\n",
       "      <td>1.172521</td>\n",
       "      <td>2.566488</td>\n",
       "      <td>-0.201517</td>\n",
       "      <td>-0.23812</td>\n",
       "      <td>-0.720082</td>\n",
       "      <td>1.065559</td>\n",
       "      <td>-0.372678</td>\n",
       "      <td>-0.121867</td>\n",
       "    </tr>\n",
       "  </tbody>\n",
       "</table>\n",
       "</div>"
      ],
      "text/plain": [
       "   const  wheelbase  carwidth  car_company_bmw  car_company_peugeot  \\\n",
       "0    1.0  -1.690772 -0.844782        -0.201517             -0.23812   \n",
       "6    1.0   1.172521  2.566488        -0.201517             -0.23812   \n",
       "\n",
       "   carbody_hatchback  carbody_sedan  carbody_wagon  enginelocation_rear  \n",
       "0          -0.720082      -0.938474      -0.372678            -0.121867  \n",
       "6          -0.720082       1.065559      -0.372678            -0.121867  "
      ]
     },
     "execution_count": 102,
     "metadata": {},
     "output_type": "execute_result"
    }
   ],
   "source": [
    "x4 = x3.drop(['carlength'], axis =1)\n",
    "\n",
    "x4_sm = sm.add_constant(x4)\n",
    "\n",
    "lr4 = sm.OLS(y_train,x4_sm).fit()\n",
    "\n",
    "x4_sm.head(2)\n"
   ]
  },
  {
   "cell_type": "code",
   "execution_count": 103,
   "id": "1300934d",
   "metadata": {},
   "outputs": [
    {
     "name": "stdout",
     "output_type": "stream",
     "text": [
      "                            OLS Regression Results                            \n",
      "==============================================================================\n",
      "Dep. Variable:                  price   R-squared:                       0.828\n",
      "Model:                            OLS   Adj. R-squared:                  0.817\n",
      "Method:                 Least Squares   F-statistic:                     80.43\n",
      "Date:                Sun, 17 Apr 2022   Prob (F-statistic):           2.17e-47\n",
      "Time:                        21:02:33   Log-Likelihood:                -1346.3\n",
      "No. Observations:                 143   AIC:                             2711.\n",
      "Df Residuals:                     134   BIC:                             2737.\n",
      "Df Model:                           8                                         \n",
      "Covariance Type:            nonrobust                                         \n",
      "=======================================================================================\n",
      "                          coef    std err          t      P>|t|      [0.025      0.975]\n",
      "---------------------------------------------------------------------------------------\n",
      "const                1.323e+04    258.161     51.255      0.000    1.27e+04    1.37e+04\n",
      "wheelbase            1084.0611    553.965      1.957      0.052     -11.586    2179.708\n",
      "carwidth             5118.0887    489.363     10.459      0.000    4150.214    6085.963\n",
      "car_company_bmw      2085.3177    310.153      6.724      0.000    1471.889    2698.746\n",
      "car_company_peugeot -1100.0912    263.917     -4.168      0.000   -1622.073    -578.110\n",
      "carbody_hatchback   -1409.6285    563.130     -2.503      0.014   -2523.401    -295.856\n",
      "carbody_sedan       -1721.2236    595.264     -2.892      0.004   -2898.552    -543.895\n",
      "carbody_wagon       -1278.6602    447.897     -2.855      0.005   -2164.523    -392.797\n",
      "enginelocation_rear  2551.7677    297.392      8.580      0.000    1963.579    3139.957\n",
      "==============================================================================\n",
      "Omnibus:                       16.376   Durbin-Watson:                   2.119\n",
      "Prob(Omnibus):                  0.000   Jarque-Bera (JB):               27.413\n",
      "Skew:                           0.558   Prob(JB):                     1.12e-06\n",
      "Kurtosis:                       4.832   Cond. No.                         5.87\n",
      "==============================================================================\n",
      "\n",
      "Notes:\n",
      "[1] Standard Errors assume that the covariance matrix of the errors is correctly specified.\n"
     ]
    }
   ],
   "source": [
    "print(lr4.summary())"
   ]
  },
  {
   "cell_type": "code",
   "execution_count": 104,
   "id": "0389d260",
   "metadata": {},
   "outputs": [
    {
     "data": {
      "text/html": [
       "<div>\n",
       "<style scoped>\n",
       "    .dataframe tbody tr th:only-of-type {\n",
       "        vertical-align: middle;\n",
       "    }\n",
       "\n",
       "    .dataframe tbody tr th {\n",
       "        vertical-align: top;\n",
       "    }\n",
       "\n",
       "    .dataframe thead th {\n",
       "        text-align: right;\n",
       "    }\n",
       "</style>\n",
       "<table border=\"1\" class=\"dataframe\">\n",
       "  <thead>\n",
       "    <tr style=\"text-align: right;\">\n",
       "      <th></th>\n",
       "      <th>Features</th>\n",
       "      <th>VIF</th>\n",
       "    </tr>\n",
       "  </thead>\n",
       "  <tbody>\n",
       "    <tr>\n",
       "      <th>5</th>\n",
       "      <td>carbody_sedan</td>\n",
       "      <td>5.40</td>\n",
       "    </tr>\n",
       "    <tr>\n",
       "      <th>0</th>\n",
       "      <td>wheelbase</td>\n",
       "      <td>4.84</td>\n",
       "    </tr>\n",
       "    <tr>\n",
       "      <th>4</th>\n",
       "      <td>carbody_hatchback</td>\n",
       "      <td>4.69</td>\n",
       "    </tr>\n",
       "    <tr>\n",
       "      <th>1</th>\n",
       "      <td>carwidth</td>\n",
       "      <td>3.47</td>\n",
       "    </tr>\n",
       "    <tr>\n",
       "      <th>6</th>\n",
       "      <td>carbody_wagon</td>\n",
       "      <td>3.29</td>\n",
       "    </tr>\n",
       "    <tr>\n",
       "      <th>3</th>\n",
       "      <td>car_company_peugeot</td>\n",
       "      <td>1.36</td>\n",
       "    </tr>\n",
       "    <tr>\n",
       "      <th>7</th>\n",
       "      <td>enginelocation_rear</td>\n",
       "      <td>1.29</td>\n",
       "    </tr>\n",
       "    <tr>\n",
       "      <th>2</th>\n",
       "      <td>car_company_bmw</td>\n",
       "      <td>1.06</td>\n",
       "    </tr>\n",
       "  </tbody>\n",
       "</table>\n",
       "</div>"
      ],
      "text/plain": [
       "              Features   VIF\n",
       "5        carbody_sedan  5.40\n",
       "0            wheelbase  4.84\n",
       "4    carbody_hatchback  4.69\n",
       "1             carwidth  3.47\n",
       "6        carbody_wagon  3.29\n",
       "3  car_company_peugeot  1.36\n",
       "7  enginelocation_rear  1.29\n",
       "2      car_company_bmw  1.06"
      ]
     },
     "execution_count": 104,
     "metadata": {},
     "output_type": "execute_result"
    }
   ],
   "source": [
    "# to check multicollinearity\n",
    "\n",
    "vif_data = pd.DataFrame()\n",
    "vif_data['Features'] = x4.columns\n",
    "vif_data['VIF'] = [variance_inflation_factor( x4.values, i).round(2) \n",
    "                   for i in range( len(x4.columns))]\n",
    "vif_data = vif_data.sort_values(by = 'VIF', ascending = False)\n",
    "vif_data"
   ]
  },
  {
   "cell_type": "code",
   "execution_count": 105,
   "id": "0e0bec82",
   "metadata": {},
   "outputs": [
    {
     "data": {
      "text/html": [
       "<div>\n",
       "<style scoped>\n",
       "    .dataframe tbody tr th:only-of-type {\n",
       "        vertical-align: middle;\n",
       "    }\n",
       "\n",
       "    .dataframe tbody tr th {\n",
       "        vertical-align: top;\n",
       "    }\n",
       "\n",
       "    .dataframe thead th {\n",
       "        text-align: right;\n",
       "    }\n",
       "</style>\n",
       "<table border=\"1\" class=\"dataframe\">\n",
       "  <thead>\n",
       "    <tr style=\"text-align: right;\">\n",
       "      <th></th>\n",
       "      <th>const</th>\n",
       "      <th>wheelbase</th>\n",
       "      <th>carwidth</th>\n",
       "      <th>car_company_bmw</th>\n",
       "      <th>car_company_peugeot</th>\n",
       "      <th>carbody_hatchback</th>\n",
       "      <th>carbody_wagon</th>\n",
       "      <th>enginelocation_rear</th>\n",
       "    </tr>\n",
       "  </thead>\n",
       "  <tbody>\n",
       "    <tr>\n",
       "      <th>0</th>\n",
       "      <td>1.0</td>\n",
       "      <td>-1.690772</td>\n",
       "      <td>-0.844782</td>\n",
       "      <td>-0.201517</td>\n",
       "      <td>-0.23812</td>\n",
       "      <td>-0.720082</td>\n",
       "      <td>-0.372678</td>\n",
       "      <td>-0.121867</td>\n",
       "    </tr>\n",
       "    <tr>\n",
       "      <th>6</th>\n",
       "      <td>1.0</td>\n",
       "      <td>1.172521</td>\n",
       "      <td>2.566488</td>\n",
       "      <td>-0.201517</td>\n",
       "      <td>-0.23812</td>\n",
       "      <td>-0.720082</td>\n",
       "      <td>-0.372678</td>\n",
       "      <td>-0.121867</td>\n",
       "    </tr>\n",
       "  </tbody>\n",
       "</table>\n",
       "</div>"
      ],
      "text/plain": [
       "   const  wheelbase  carwidth  car_company_bmw  car_company_peugeot  \\\n",
       "0    1.0  -1.690772 -0.844782        -0.201517             -0.23812   \n",
       "6    1.0   1.172521  2.566488        -0.201517             -0.23812   \n",
       "\n",
       "   carbody_hatchback  carbody_wagon  enginelocation_rear  \n",
       "0          -0.720082      -0.372678            -0.121867  \n",
       "6          -0.720082      -0.372678            -0.121867  "
      ]
     },
     "execution_count": 105,
     "metadata": {},
     "output_type": "execute_result"
    }
   ],
   "source": [
    "x5 = x4.drop(['carbody_sedan'], axis =1)\n",
    "\n",
    "x5_sm = sm.add_constant(x5)\n",
    "\n",
    "lr5 = sm.OLS(y_train,x5_sm).fit()\n",
    "\n",
    "x5_sm.head(2)"
   ]
  },
  {
   "cell_type": "code",
   "execution_count": 106,
   "id": "23f46aa8",
   "metadata": {},
   "outputs": [
    {
     "name": "stdout",
     "output_type": "stream",
     "text": [
      "                            OLS Regression Results                            \n",
      "==============================================================================\n",
      "Dep. Variable:                  price   R-squared:                       0.817\n",
      "Model:                            OLS   Adj. R-squared:                  0.807\n",
      "Method:                 Least Squares   F-statistic:                     86.04\n",
      "Date:                Sun, 17 Apr 2022   Prob (F-statistic):           1.25e-46\n",
      "Time:                        21:02:59   Log-Likelihood:                -1350.6\n",
      "No. Observations:                 143   AIC:                             2717.\n",
      "Df Residuals:                     135   BIC:                             2741.\n",
      "Df Model:                           7                                         \n",
      "Covariance Type:            nonrobust                                         \n",
      "=======================================================================================\n",
      "                          coef    std err          t      P>|t|      [0.025      0.975]\n",
      "---------------------------------------------------------------------------------------\n",
      "const                1.325e+04    265.051     49.979      0.000    1.27e+04    1.38e+04\n",
      "wheelbase             685.1379    550.943      1.244      0.216    -404.459    1774.734\n",
      "carwidth             5418.8330    491.046     11.035      0.000    4447.696    6389.970\n",
      "car_company_bmw      2040.7474    318.103      6.415      0.000    1411.638    2669.857\n",
      "car_company_peugeot -1095.8614    271.012     -4.044      0.000   -1631.840    -559.883\n",
      "carbody_hatchback     -38.5888    311.965     -0.124      0.902    -655.560     578.382\n",
      "carbody_wagon        -235.5660    272.618     -0.864      0.389    -774.720     303.588\n",
      "enginelocation_rear  2854.1323    285.890      9.983      0.000    2288.729    3419.535\n",
      "==============================================================================\n",
      "Omnibus:                       22.837   Durbin-Watson:                   2.037\n",
      "Prob(Omnibus):                  0.000   Jarque-Bera (JB):               41.427\n",
      "Skew:                           0.739   Prob(JB):                     1.01e-09\n",
      "Kurtosis:                       5.184   Cond. No.                         4.33\n",
      "==============================================================================\n",
      "\n",
      "Notes:\n",
      "[1] Standard Errors assume that the covariance matrix of the errors is correctly specified.\n"
     ]
    }
   ],
   "source": [
    "print(lr5.summary())"
   ]
  },
  {
   "cell_type": "code",
   "execution_count": 107,
   "id": "ce82bd40",
   "metadata": {},
   "outputs": [
    {
     "data": {
      "text/html": [
       "<div>\n",
       "<style scoped>\n",
       "    .dataframe tbody tr th:only-of-type {\n",
       "        vertical-align: middle;\n",
       "    }\n",
       "\n",
       "    .dataframe tbody tr th {\n",
       "        vertical-align: top;\n",
       "    }\n",
       "\n",
       "    .dataframe thead th {\n",
       "        text-align: right;\n",
       "    }\n",
       "</style>\n",
       "<table border=\"1\" class=\"dataframe\">\n",
       "  <thead>\n",
       "    <tr style=\"text-align: right;\">\n",
       "      <th></th>\n",
       "      <th>Features</th>\n",
       "      <th>VIF</th>\n",
       "    </tr>\n",
       "  </thead>\n",
       "  <tbody>\n",
       "    <tr>\n",
       "      <th>0</th>\n",
       "      <td>wheelbase</td>\n",
       "      <td>4.54</td>\n",
       "    </tr>\n",
       "    <tr>\n",
       "      <th>1</th>\n",
       "      <td>carwidth</td>\n",
       "      <td>3.32</td>\n",
       "    </tr>\n",
       "    <tr>\n",
       "      <th>4</th>\n",
       "      <td>carbody_hatchback</td>\n",
       "      <td>1.37</td>\n",
       "    </tr>\n",
       "    <tr>\n",
       "      <th>3</th>\n",
       "      <td>car_company_peugeot</td>\n",
       "      <td>1.36</td>\n",
       "    </tr>\n",
       "    <tr>\n",
       "      <th>5</th>\n",
       "      <td>carbody_wagon</td>\n",
       "      <td>1.16</td>\n",
       "    </tr>\n",
       "    <tr>\n",
       "      <th>6</th>\n",
       "      <td>enginelocation_rear</td>\n",
       "      <td>1.13</td>\n",
       "    </tr>\n",
       "    <tr>\n",
       "      <th>2</th>\n",
       "      <td>car_company_bmw</td>\n",
       "      <td>1.06</td>\n",
       "    </tr>\n",
       "  </tbody>\n",
       "</table>\n",
       "</div>"
      ],
      "text/plain": [
       "              Features   VIF\n",
       "0            wheelbase  4.54\n",
       "1             carwidth  3.32\n",
       "4    carbody_hatchback  1.37\n",
       "3  car_company_peugeot  1.36\n",
       "5        carbody_wagon  1.16\n",
       "6  enginelocation_rear  1.13\n",
       "2      car_company_bmw  1.06"
      ]
     },
     "execution_count": 107,
     "metadata": {},
     "output_type": "execute_result"
    }
   ],
   "source": [
    "# to check multicollinearity\n",
    "\n",
    "vif_data = pd.DataFrame()\n",
    "vif_data['Features'] = x5.columns\n",
    "vif_data['VIF'] = [variance_inflation_factor( x5.values, i).round(2) \n",
    "                   for i in range( len(x5.columns))]\n",
    "vif_data = vif_data.sort_values(by = 'VIF', ascending = False)\n",
    "vif_data"
   ]
  },
  {
   "cell_type": "code",
   "execution_count": 108,
   "id": "62c41491",
   "metadata": {},
   "outputs": [
    {
     "data": {
      "text/html": [
       "<div>\n",
       "<style scoped>\n",
       "    .dataframe tbody tr th:only-of-type {\n",
       "        vertical-align: middle;\n",
       "    }\n",
       "\n",
       "    .dataframe tbody tr th {\n",
       "        vertical-align: top;\n",
       "    }\n",
       "\n",
       "    .dataframe thead th {\n",
       "        text-align: right;\n",
       "    }\n",
       "</style>\n",
       "<table border=\"1\" class=\"dataframe\">\n",
       "  <thead>\n",
       "    <tr style=\"text-align: right;\">\n",
       "      <th></th>\n",
       "      <th>const</th>\n",
       "      <th>carwidth</th>\n",
       "      <th>car_company_bmw</th>\n",
       "      <th>car_company_peugeot</th>\n",
       "      <th>carbody_hatchback</th>\n",
       "      <th>carbody_wagon</th>\n",
       "      <th>enginelocation_rear</th>\n",
       "    </tr>\n",
       "  </thead>\n",
       "  <tbody>\n",
       "    <tr>\n",
       "      <th>0</th>\n",
       "      <td>1.0</td>\n",
       "      <td>-0.844782</td>\n",
       "      <td>-0.201517</td>\n",
       "      <td>-0.23812</td>\n",
       "      <td>-0.720082</td>\n",
       "      <td>-0.372678</td>\n",
       "      <td>-0.121867</td>\n",
       "    </tr>\n",
       "    <tr>\n",
       "      <th>6</th>\n",
       "      <td>1.0</td>\n",
       "      <td>2.566488</td>\n",
       "      <td>-0.201517</td>\n",
       "      <td>-0.23812</td>\n",
       "      <td>-0.720082</td>\n",
       "      <td>-0.372678</td>\n",
       "      <td>-0.121867</td>\n",
       "    </tr>\n",
       "  </tbody>\n",
       "</table>\n",
       "</div>"
      ],
      "text/plain": [
       "   const  carwidth  car_company_bmw  car_company_peugeot  carbody_hatchback  \\\n",
       "0    1.0 -0.844782        -0.201517             -0.23812          -0.720082   \n",
       "6    1.0  2.566488        -0.201517             -0.23812          -0.720082   \n",
       "\n",
       "   carbody_wagon  enginelocation_rear  \n",
       "0      -0.372678            -0.121867  \n",
       "6      -0.372678            -0.121867  "
      ]
     },
     "execution_count": 108,
     "metadata": {},
     "output_type": "execute_result"
    }
   ],
   "source": [
    "x6 = x5.drop(['wheelbase'], axis =1)\n",
    "\n",
    "x6_sm = sm.add_constant(x6)\n",
    "\n",
    "lr6 = sm.OLS(y_train,x6_sm).fit()\n",
    "\n",
    "x6_sm.head(2)"
   ]
  },
  {
   "cell_type": "code",
   "execution_count": 109,
   "id": "e0cca98c",
   "metadata": {},
   "outputs": [
    {
     "name": "stdout",
     "output_type": "stream",
     "text": [
      "                            OLS Regression Results                            \n",
      "==============================================================================\n",
      "Dep. Variable:                  price   R-squared:                       0.815\n",
      "Model:                            OLS   Adj. R-squared:                  0.807\n",
      "Method:                 Least Squares   F-statistic:                     99.72\n",
      "Date:                Sun, 17 Apr 2022   Prob (F-statistic):           2.57e-47\n",
      "Time:                        21:03:21   Log-Likelihood:                -1351.4\n",
      "No. Observations:                 143   AIC:                             2717.\n",
      "Df Residuals:                     136   BIC:                             2738.\n",
      "Df Model:                           6                                         \n",
      "Covariance Type:            nonrobust                                         \n",
      "=======================================================================================\n",
      "                          coef    std err          t      P>|t|      [0.025      0.975]\n",
      "---------------------------------------------------------------------------------------\n",
      "const                1.327e+04    265.104     50.044      0.000    1.27e+04    1.38e+04\n",
      "carwidth             5906.5375    296.093     19.948      0.000    5320.995    6492.080\n",
      "car_company_bmw      2102.9383    314.778      6.681      0.000    1480.446    2725.430\n",
      "car_company_peugeot  -964.0948    249.941     -3.857      0.000   -1458.369    -469.821\n",
      "carbody_hatchback    -164.1223    295.774     -0.555      0.580    -749.033     420.789\n",
      "carbody_wagon        -181.2365    269.634     -0.672      0.503    -714.455     351.982\n",
      "enginelocation_rear  2745.0748    272.654     10.068      0.000    2205.886    3284.264\n",
      "==============================================================================\n",
      "Omnibus:                       23.637   Durbin-Watson:                   2.035\n",
      "Prob(Omnibus):                  0.000   Jarque-Bera (JB):               46.793\n",
      "Skew:                           0.727   Prob(JB):                     6.90e-11\n",
      "Kurtosis:                       5.396   Cond. No.                         1.81\n",
      "==============================================================================\n",
      "\n",
      "Notes:\n",
      "[1] Standard Errors assume that the covariance matrix of the errors is correctly specified.\n"
     ]
    }
   ],
   "source": [
    "print(lr6.summary())"
   ]
  },
  {
   "cell_type": "code",
   "execution_count": 110,
   "id": "7930bb62",
   "metadata": {},
   "outputs": [
    {
     "data": {
      "text/html": [
       "<div>\n",
       "<style scoped>\n",
       "    .dataframe tbody tr th:only-of-type {\n",
       "        vertical-align: middle;\n",
       "    }\n",
       "\n",
       "    .dataframe tbody tr th {\n",
       "        vertical-align: top;\n",
       "    }\n",
       "\n",
       "    .dataframe thead th {\n",
       "        text-align: right;\n",
       "    }\n",
       "</style>\n",
       "<table border=\"1\" class=\"dataframe\">\n",
       "  <thead>\n",
       "    <tr style=\"text-align: right;\">\n",
       "      <th></th>\n",
       "      <th>Features</th>\n",
       "      <th>VIF</th>\n",
       "    </tr>\n",
       "  </thead>\n",
       "  <tbody>\n",
       "    <tr>\n",
       "      <th>3</th>\n",
       "      <td>carbody_hatchback</td>\n",
       "      <td>1.22</td>\n",
       "    </tr>\n",
       "    <tr>\n",
       "      <th>0</th>\n",
       "      <td>carwidth</td>\n",
       "      <td>1.20</td>\n",
       "    </tr>\n",
       "    <tr>\n",
       "      <th>2</th>\n",
       "      <td>car_company_peugeot</td>\n",
       "      <td>1.15</td>\n",
       "    </tr>\n",
       "    <tr>\n",
       "      <th>4</th>\n",
       "      <td>carbody_wagon</td>\n",
       "      <td>1.13</td>\n",
       "    </tr>\n",
       "    <tr>\n",
       "      <th>1</th>\n",
       "      <td>car_company_bmw</td>\n",
       "      <td>1.03</td>\n",
       "    </tr>\n",
       "    <tr>\n",
       "      <th>5</th>\n",
       "      <td>enginelocation_rear</td>\n",
       "      <td>1.02</td>\n",
       "    </tr>\n",
       "  </tbody>\n",
       "</table>\n",
       "</div>"
      ],
      "text/plain": [
       "              Features   VIF\n",
       "3    carbody_hatchback  1.22\n",
       "0             carwidth  1.20\n",
       "2  car_company_peugeot  1.15\n",
       "4        carbody_wagon  1.13\n",
       "1      car_company_bmw  1.03\n",
       "5  enginelocation_rear  1.02"
      ]
     },
     "execution_count": 110,
     "metadata": {},
     "output_type": "execute_result"
    }
   ],
   "source": [
    "# to check multicollinearity\n",
    "\n",
    "vif_data = pd.DataFrame()\n",
    "vif_data['Features'] = x6.columns\n",
    "vif_data['VIF'] = [variance_inflation_factor( x6.values, i).round(2) \n",
    "                   for i in range( len(x6.columns))]\n",
    "vif_data = vif_data.sort_values(by = 'VIF', ascending = False)\n",
    "vif_data"
   ]
  },
  {
   "cell_type": "markdown",
   "id": "63acc886",
   "metadata": {},
   "source": [
    "we can see that there is no multicollinearity,all VIF values & p-values are low and  good in range now we can accept these variables "
   ]
  },
  {
   "cell_type": "markdown",
   "id": "1066cd8e",
   "metadata": {},
   "source": [
    " ### Residual analysis of train data"
   ]
  },
  {
   "cell_type": "raw",
   "id": "d4793b12",
   "metadata": {},
   "source": [
    "# here we will check the error terms are normally distributed with mean approx 0 "
   ]
  },
  {
   "cell_type": "code",
   "execution_count": 111,
   "id": "832f8dee",
   "metadata": {},
   "outputs": [
    {
     "data": {
      "text/plain": [
       "0       7934.138386\n",
       "6      28082.934762\n",
       "31      7036.013437\n",
       "107    15524.256509\n",
       "55     12004.209803\n",
       "dtype: float64"
      ]
     },
     "execution_count": 111,
     "metadata": {},
     "output_type": "execute_result"
    }
   ],
   "source": [
    "y_train_pred = lr6.predict(x6_sm)\n",
    "y_train_pred.head()"
   ]
  },
  {
   "cell_type": "code",
   "execution_count": 112,
   "id": "7c8b7223",
   "metadata": {},
   "outputs": [],
   "source": [
    "Residual = y_train- y_train_pred"
   ]
  },
  {
   "cell_type": "code",
   "execution_count": 113,
   "id": "c3b89777",
   "metadata": {},
   "outputs": [
    {
     "data": {
      "text/plain": [
       "<AxesSubplot:ylabel='Density'>"
      ]
     },
     "execution_count": 113,
     "metadata": {},
     "output_type": "execute_result"
    },
    {
     "data": {
      "image/png": "[encoded data removed]",
      "text/plain": [
       "<Figure size 432x288 with 1 Axes>"
      ]
     },
     "metadata": {
      "needs_background": "light"
     },
     "output_type": "display_data"
    }
   ],
   "source": [
    "sb.distplot(Residual, bins =20,color='r')"
   ]
  },
  {
   "cell_type": "markdown",
   "id": "0b7bab0e",
   "metadata": {},
   "source": [
    "it looks like that mean is not '0'"
   ]
  },
  {
   "cell_type": "code",
   "execution_count": 114,
   "id": "c6a3a6d6",
   "metadata": {},
   "outputs": [],
   "source": [
    "# making prediction in test set\n",
    "\n",
    "x_test_lr6=x_test[x6.columns]"
   ]
  },
  {
   "cell_type": "code",
   "execution_count": 115,
   "id": "b1cc590f",
   "metadata": {},
   "outputs": [],
   "source": [
    "x_test_lr6=sm.add_constant(x_test_lr6)"
   ]
  },
  {
   "cell_type": "code",
   "execution_count": 116,
   "id": "0fd99f09",
   "metadata": {},
   "outputs": [],
   "source": [
    "y_pred_new=lr6.predict(x_test_lr6)"
   ]
  },
  {
   "cell_type": "code",
   "execution_count": 117,
   "id": "70fc0b35",
   "metadata": {},
   "outputs": [
    {
     "data": {
      "text/plain": [
       "7      27529.083369\n",
       "20      6554.083840\n",
       "10     20725.526360\n",
       "131    14488.307987\n",
       "188    11798.291116\n",
       "dtype: float64"
      ]
     },
     "execution_count": 117,
     "metadata": {},
     "output_type": "execute_result"
    }
   ],
   "source": [
    "y_pred_new.head()"
   ]
  },
  {
   "cell_type": "code",
   "execution_count": 118,
   "id": "e2de7cf9",
   "metadata": {},
   "outputs": [
    {
     "data": {
      "text/plain": [
       "7      18920.0\n",
       "20      6575.0\n",
       "10     16430.0\n",
       "131     9895.0\n",
       "188     9995.0\n",
       "Name: price, dtype: float64"
      ]
     },
     "execution_count": 118,
     "metadata": {},
     "output_type": "execute_result"
    }
   ],
   "source": [
    "y_test.head()"
   ]
  },
  {
   "cell_type": "markdown",
   "id": "9fa53023",
   "metadata": {},
   "source": [
    " ### Residual analysis of test data"
   ]
  },
  {
   "cell_type": "code",
   "execution_count": 119,
   "id": "63ce43ce",
   "metadata": {},
   "outputs": [
    {
     "data": {
      "image/png": "[encoded data removed]",
      "text/plain": [
       "<Figure size 432x288 with 1 Axes>"
      ]
     },
     "metadata": {
      "needs_background": "light"
     },
     "output_type": "display_data"
    }
   ],
   "source": [
    "# Error terms\n",
    "\n",
    "c = [i for i in range(len(y_pred_new))]\n",
    "\n",
    "plt.plot(c,y_test, color=\"red\");\n",
    "plt.plot(c, y_pred_new,color = 'green');\n",
    "plt.title('Error Terms',fontsize=15);\n"
   ]
  },
  {
   "cell_type": "code",
   "execution_count": 120,
   "id": "bff75f1c",
   "metadata": {},
   "outputs": [
    {
     "data": {
      "image/png": "[encoded data removed]",
      "text/plain": [
       "<Figure size 432x288 with 1 Axes>"
      ]
     },
     "metadata": {
      "needs_background": "light"
     },
     "output_type": "display_data"
    }
   ],
   "source": [
    "# Plotting the error terms to understand the distribution.\n",
    "                \n",
    "sb.distplot((y_test-y_pred_new),bins=30) ;                  "
   ]
  },
  {
   "cell_type": "markdown",
   "id": "fa599506",
   "metadata": {},
   "source": [
    "it looks like that mean is not 0, and scale of ‘Price’ lies in negative number"
   ]
  },
  {
   "cell_type": "code",
   "execution_count": 121,
   "id": "4fd6eddd",
   "metadata": {},
   "outputs": [
    {
     "data": {
      "image/png": "[encoded data removed]",
      "text/plain": [
       "<Figure size 432x288 with 1 Axes>"
      ]
     },
     "metadata": {
      "needs_background": "light"
     },
     "output_type": "display_data"
    }
   ],
   "source": [
    "plt.scatter(y_test, y_pred_new);\n",
    "plt.xlabel('y_test');\n",
    "plt.ylabel('y_pred');"
   ]
  },
  {
   "cell_type": "code",
   "execution_count": 122,
   "id": "4c996ee5",
   "metadata": {},
   "outputs": [
    {
     "data": {
      "text/plain": [
       "0.8024180294654983"
      ]
     },
     "execution_count": 122,
     "metadata": {},
     "output_type": "execute_result"
    }
   ],
   "source": [
    "r2_score(y_test, y_pred_new)"
   ]
  },
  {
   "cell_type": "markdown",
   "id": "83c3e3c9",
   "metadata": {},
   "source": [
    "The R2 score of Training set is 0.807 and Test set is 0.802 which is quite close. Hence, We can say that our model is good enough to predict the Car prices using below predictor variables\n",
    "\n",
    "\n",
    "carbody_hatchback\t\n",
    "carwidth\t\n",
    "car_company_peugeot\t\n",
    "carbody_wagon\t\n",
    "car_company_bmw\t\n",
    "enginelocation_rear\n",
    "\n",
    "These are the variables that are significant in predicting the price of a car."
   ]
  }
 ],
 "metadata": {
  "kernelspec": {
   "display_name": "Python 3 (ipykernel)",
   "language": "python",
   "name": "python3"
  },
  "language_info": {
   "codemirror_mode": {
    "name": "ipython",
    "version": 3
   },
   "file_extension": ".py",
   "mimetype": "text/x-python",
   "name": "python",
   "nbconvert_exporter": "python",
   "pygments_lexer": "ipython3",
   "version": "3.10.9"
  }
 },
 "nbformat": 4,
 "nbformat_minor": 5
}
